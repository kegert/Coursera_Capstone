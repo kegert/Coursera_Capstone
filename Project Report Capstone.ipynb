{
 "cells": [
  {
   "cell_type": "markdown",
   "metadata": {},
   "source": [
    "# Car accident severity predictor\n",
    "\n",
    "This is the project report by Katharina Egert, submitted October 2020.\n",
    "\n",
    "## 1. Introduction\n",
    "\n",
    "The objective of this project is to create a way to predict severity of car accidents happening based on road and weather conditions.\n",
    "That is, our algorithm needs to take as input the conditions that may impact severity of accidents:\n",
    "\n",
    "* road conditions\n",
    "* weather conditions\n",
    "* lighting conditions\n",
    "\n",
    "etc.\n",
    "\n",
    "and predict the risk profile of potential accidents, i.e. the severity label. A user should then be able to specify the current conditions\n",
    "of their itinerary and should then get back the severity label of accidents happening.\n",
    "\n",
    "Example: A wet road should potential lead to higher severity accidents than a dry road.\n",
    "\n",
    "The main stakeholders are:\n",
    "\n",
    "* __traffic regulators__: They can make policies (e.g. speed limits, higher controls etc) in order to mitigate risks.\n",
    "* __drivers__: They can recognize risks in advance and adapt their behavior in order to lower their own personal risks, e.g. drive more carefully or even avoid travelling at at risk conditions all together.\n",
    "\n",
    "\n",
    "### 1.1 Loading of preliminary packages\n",
    "\n",
    "For our notebook to compile we load the necessary packages here."
   ]
  },
  {
   "cell_type": "code",
   "execution_count": 1,
   "metadata": {},
   "outputs": [],
   "source": [
    "import pandas as pd\n",
    "import numpy as np\n",
    "import matplotlib.pyplot as plt\n",
    "import seaborn as sns\n",
    "from sklearn import metrics\n",
    "from sklearn.metrics import classification_report\n",
    "from sklearn import preprocessing\n",
    "from sklearn.model_selection import train_test_split\n",
    "from sklearn.model_selection import RandomizedSearchCV\n",
    "from sklearn.linear_model import LogisticRegression\n",
    "from sklearn.ensemble import RandomForestClassifier\n"
   ]
  },
  {
   "cell_type": "markdown",
   "metadata": {},
   "source": [
    "\n",
    "## 2. Data \n",
    "\n",
    "In this section we will descibe the underlying data.\n",
    "\n",
    "### 2.1 Data Source\n",
    "\n",
    "The given data set contains all collisions provided by Seattle police departement and recorded by Traffic Records. The level of aggregation is\n",
    "weekly. The timeframe is 2004 to today.\n",
    "(See metadata from the SPD Collision data set.)\n",
    "\n",
    "### 2.2 Data Loading\n",
    "In the next step, we load the data into the notebook and display the first 5 lines of the raw table. Not all columns will be used and some will need to be transformed in order to be exploitable for our later classification."
   ]
  },
  {
   "cell_type": "code",
   "execution_count": 2,
   "metadata": {},
   "outputs": [
    {
     "data": {
      "text/html": [
       "<div>\n",
       "<style scoped>\n",
       "    .dataframe tbody tr th:only-of-type {\n",
       "        vertical-align: middle;\n",
       "    }\n",
       "\n",
       "    .dataframe tbody tr th {\n",
       "        vertical-align: top;\n",
       "    }\n",
       "\n",
       "    .dataframe thead th {\n",
       "        text-align: right;\n",
       "    }\n",
       "</style>\n",
       "<table border=\"1\" class=\"dataframe\">\n",
       "  <thead>\n",
       "    <tr style=\"text-align: right;\">\n",
       "      <th></th>\n",
       "      <th>SEVERITYCODE</th>\n",
       "      <th>X</th>\n",
       "      <th>Y</th>\n",
       "      <th>OBJECTID</th>\n",
       "      <th>INCKEY</th>\n",
       "      <th>COLDETKEY</th>\n",
       "      <th>REPORTNO</th>\n",
       "      <th>STATUS</th>\n",
       "      <th>ADDRTYPE</th>\n",
       "      <th>INTKEY</th>\n",
       "      <th>...</th>\n",
       "      <th>ROADCOND</th>\n",
       "      <th>LIGHTCOND</th>\n",
       "      <th>PEDROWNOTGRNT</th>\n",
       "      <th>SDOTCOLNUM</th>\n",
       "      <th>SPEEDING</th>\n",
       "      <th>ST_COLCODE</th>\n",
       "      <th>ST_COLDESC</th>\n",
       "      <th>SEGLANEKEY</th>\n",
       "      <th>CROSSWALKKEY</th>\n",
       "      <th>HITPARKEDCAR</th>\n",
       "    </tr>\n",
       "  </thead>\n",
       "  <tbody>\n",
       "    <tr>\n",
       "      <th>0</th>\n",
       "      <td>2</td>\n",
       "      <td>-122.323148</td>\n",
       "      <td>47.703140</td>\n",
       "      <td>1</td>\n",
       "      <td>1307</td>\n",
       "      <td>1307</td>\n",
       "      <td>3502005</td>\n",
       "      <td>Matched</td>\n",
       "      <td>Intersection</td>\n",
       "      <td>37475.0</td>\n",
       "      <td>...</td>\n",
       "      <td>Wet</td>\n",
       "      <td>Daylight</td>\n",
       "      <td>NaN</td>\n",
       "      <td>NaN</td>\n",
       "      <td>NaN</td>\n",
       "      <td>10</td>\n",
       "      <td>Entering at angle</td>\n",
       "      <td>0</td>\n",
       "      <td>0</td>\n",
       "      <td>N</td>\n",
       "    </tr>\n",
       "    <tr>\n",
       "      <th>1</th>\n",
       "      <td>1</td>\n",
       "      <td>-122.347294</td>\n",
       "      <td>47.647172</td>\n",
       "      <td>2</td>\n",
       "      <td>52200</td>\n",
       "      <td>52200</td>\n",
       "      <td>2607959</td>\n",
       "      <td>Matched</td>\n",
       "      <td>Block</td>\n",
       "      <td>NaN</td>\n",
       "      <td>...</td>\n",
       "      <td>Wet</td>\n",
       "      <td>Dark - Street Lights On</td>\n",
       "      <td>NaN</td>\n",
       "      <td>6354039.0</td>\n",
       "      <td>NaN</td>\n",
       "      <td>11</td>\n",
       "      <td>From same direction - both going straight - bo...</td>\n",
       "      <td>0</td>\n",
       "      <td>0</td>\n",
       "      <td>N</td>\n",
       "    </tr>\n",
       "    <tr>\n",
       "      <th>2</th>\n",
       "      <td>1</td>\n",
       "      <td>-122.334540</td>\n",
       "      <td>47.607871</td>\n",
       "      <td>3</td>\n",
       "      <td>26700</td>\n",
       "      <td>26700</td>\n",
       "      <td>1482393</td>\n",
       "      <td>Matched</td>\n",
       "      <td>Block</td>\n",
       "      <td>NaN</td>\n",
       "      <td>...</td>\n",
       "      <td>Dry</td>\n",
       "      <td>Daylight</td>\n",
       "      <td>NaN</td>\n",
       "      <td>4323031.0</td>\n",
       "      <td>NaN</td>\n",
       "      <td>32</td>\n",
       "      <td>One parked--one moving</td>\n",
       "      <td>0</td>\n",
       "      <td>0</td>\n",
       "      <td>N</td>\n",
       "    </tr>\n",
       "    <tr>\n",
       "      <th>3</th>\n",
       "      <td>1</td>\n",
       "      <td>-122.334803</td>\n",
       "      <td>47.604803</td>\n",
       "      <td>4</td>\n",
       "      <td>1144</td>\n",
       "      <td>1144</td>\n",
       "      <td>3503937</td>\n",
       "      <td>Matched</td>\n",
       "      <td>Block</td>\n",
       "      <td>NaN</td>\n",
       "      <td>...</td>\n",
       "      <td>Dry</td>\n",
       "      <td>Daylight</td>\n",
       "      <td>NaN</td>\n",
       "      <td>NaN</td>\n",
       "      <td>NaN</td>\n",
       "      <td>23</td>\n",
       "      <td>From same direction - all others</td>\n",
       "      <td>0</td>\n",
       "      <td>0</td>\n",
       "      <td>N</td>\n",
       "    </tr>\n",
       "    <tr>\n",
       "      <th>4</th>\n",
       "      <td>2</td>\n",
       "      <td>-122.306426</td>\n",
       "      <td>47.545739</td>\n",
       "      <td>5</td>\n",
       "      <td>17700</td>\n",
       "      <td>17700</td>\n",
       "      <td>1807429</td>\n",
       "      <td>Matched</td>\n",
       "      <td>Intersection</td>\n",
       "      <td>34387.0</td>\n",
       "      <td>...</td>\n",
       "      <td>Wet</td>\n",
       "      <td>Daylight</td>\n",
       "      <td>NaN</td>\n",
       "      <td>4028032.0</td>\n",
       "      <td>NaN</td>\n",
       "      <td>10</td>\n",
       "      <td>Entering at angle</td>\n",
       "      <td>0</td>\n",
       "      <td>0</td>\n",
       "      <td>N</td>\n",
       "    </tr>\n",
       "  </tbody>\n",
       "</table>\n",
       "<p>5 rows × 38 columns</p>\n",
       "</div>"
      ],
      "text/plain": [
       "   SEVERITYCODE           X          Y  OBJECTID  INCKEY  COLDETKEY REPORTNO  \\\n",
       "0             2 -122.323148  47.703140         1    1307       1307  3502005   \n",
       "1             1 -122.347294  47.647172         2   52200      52200  2607959   \n",
       "2             1 -122.334540  47.607871         3   26700      26700  1482393   \n",
       "3             1 -122.334803  47.604803         4    1144       1144  3503937   \n",
       "4             2 -122.306426  47.545739         5   17700      17700  1807429   \n",
       "\n",
       "    STATUS      ADDRTYPE   INTKEY  ... ROADCOND                LIGHTCOND  \\\n",
       "0  Matched  Intersection  37475.0  ...      Wet                 Daylight   \n",
       "1  Matched         Block      NaN  ...      Wet  Dark - Street Lights On   \n",
       "2  Matched         Block      NaN  ...      Dry                 Daylight   \n",
       "3  Matched         Block      NaN  ...      Dry                 Daylight   \n",
       "4  Matched  Intersection  34387.0  ...      Wet                 Daylight   \n",
       "\n",
       "  PEDROWNOTGRNT  SDOTCOLNUM SPEEDING ST_COLCODE  \\\n",
       "0           NaN         NaN      NaN         10   \n",
       "1           NaN   6354039.0      NaN         11   \n",
       "2           NaN   4323031.0      NaN         32   \n",
       "3           NaN         NaN      NaN         23   \n",
       "4           NaN   4028032.0      NaN         10   \n",
       "\n",
       "                                          ST_COLDESC  SEGLANEKEY  \\\n",
       "0                                  Entering at angle           0   \n",
       "1  From same direction - both going straight - bo...           0   \n",
       "2                             One parked--one moving           0   \n",
       "3                   From same direction - all others           0   \n",
       "4                                  Entering at angle           0   \n",
       "\n",
       "   CROSSWALKKEY  HITPARKEDCAR  \n",
       "0             0             N  \n",
       "1             0             N  \n",
       "2             0             N  \n",
       "3             0             N  \n",
       "4             0             N  \n",
       "\n",
       "[5 rows x 38 columns]"
      ]
     },
     "execution_count": 2,
     "metadata": {},
     "output_type": "execute_result"
    }
   ],
   "source": [
    "full_df = pd.read_csv(\"../Data-Collisions.csv\", low_memory=False)\n",
    "full_df.head()"
   ]
  },
  {
   "cell_type": "markdown",
   "metadata": {},
   "source": [
    "### 2.3 Data Description\n",
    "\n",
    "The problem consists in predicting accident severity based on outer conditions of accidents recorded. \n",
    "The label to be predicted is 'SEVERITYCODE'. A description of the severity is contained in the column 'SEVERITYDESC' and 'SEVERITYCODE.1'\n",
    "which is therefore redundant.\n",
    "\n",
    "\n",
    "\n",
    "The following columns are of a technical nature and therefore of no use to us:\n",
    "\n",
    "* 'OBJECTID',\n",
    "* 'INCKEY', \n",
    "* 'COLDETKEY', \n",
    "* 'REPORTNO',\n",
    "* 'STATUS'\n",
    "* 'INTKEY'\n",
    "* 'EXCEPTRSNCODE',\n",
    "* 'EXCEPTRSNDESC'\n",
    "\n",
    "There are several other fields in the data set such as 'UNDER_INF' (influenced by alcohol/drug use) which might be good predictors for severity, however it does not make sense to use these for this problem as traffic planers as well as drivers (apart from their own sobriety) will not be able to input this data when using this analysis. The same goes for pedestrian/cyclist count (which is actually depending on the dependent variable!) as one will not know how many pedestrians/bikes will be on the road on a given day. \n",
    "\n",
    "The total list of colums concerned is:\n",
    "* 'PERSONCOUNT', \n",
    "* 'PEDCOUNT', \n",
    "* 'PEDCYLCOUNT', \n",
    "* 'VEHCOUNT',\n",
    "* 'INATTENTIONIND',\n",
    "* 'UNDERINFL',\n",
    "* 'HITPARKEDCAR',\n",
    "* 'SPEEDING',\n",
    "* 'HITPARKEDCAR',\n",
    "* 'PEDROWNOTGRNT',\n",
    "* 'SDOTCOLNUM', \n",
    "* 'ST_COLCODE', \n",
    "* 'ST_COLDESC',\n",
    "* 'SEGLANEKEY', \n",
    "* 'CROSSWALKKEY',\n",
    "* 'SDOT_COLCODE'\n",
    "* 'SDOT_COLDESC',\n",
    "* 'COLLISIONTYPE',\n",
    "\n",
    "The colums that can be explored are\n",
    "* 'ADDRTYPE', 'X', 'Y'\n",
    "* 'LOCATION',\n",
    "* 'INCDATE' and 'INCDTTM',\n",
    "* 'JUNCTIONTYPE',\n",
    "* 'WEATHER'\n",
    "* 'ROADCOND', \n",
    "* 'LIGHTCOND'\n",
    "       \n",
    "  \n",
    "\n"
   ]
  },
  {
   "cell_type": "markdown",
   "metadata": {},
   "source": [
    "# 3. Methodology\n",
    "This section represents the main component of the report where I will discuss and describe exploratory data analysis and inferential statistical testing performed.\n",
    "\n",
    "\n",
    "### 3.1 Label analysis\n",
    "We need to predict severity of the accident given by the data colum 'SEVERITYCODE'. The following codes are given:\n",
    "\n",
    "* 3—fatality \n",
    "* 2b—serious injury\n",
    "* __2—injury__\n",
    "* __1—property damage__\n",
    "* 0—unknown\n",
    "\n",
    "Only labels of 1 and 2 are present in the dataset. \n",
    "\n",
    "We will now analyze the frequency of their occurrences. The first static gives the absolute frequency, the second one the relative frequency."
   ]
  },
  {
   "cell_type": "code",
   "execution_count": 3,
   "metadata": {},
   "outputs": [
    {
     "data": {
      "text/plain": [
       "1    136485\n",
       "2     58188\n",
       "Name: SEVERITYCODE, dtype: int64"
      ]
     },
     "execution_count": 3,
     "metadata": {},
     "output_type": "execute_result"
    }
   ],
   "source": [
    "full_df['SEVERITYCODE'].value_counts()"
   ]
  },
  {
   "cell_type": "code",
   "execution_count": 4,
   "metadata": {},
   "outputs": [
    {
     "data": {
      "text/plain": [
       "1    0.701099\n",
       "2    0.298901\n",
       "Name: SEVERITYCODE, dtype: float64"
      ]
     },
     "execution_count": 4,
     "metadata": {},
     "output_type": "execute_result"
    }
   ],
   "source": [
    "full_df['SEVERITYCODE'].value_counts().apply(lambda r: r/full_df['SEVERITYCODE'].count())"
   ]
  },
  {
   "cell_type": "markdown",
   "metadata": {},
   "source": [
    "It turns out that property damage appears more than twice as often as injuries. This means that out data set is unbalanced, hence we need to try later on to account for this imbalance.\n",
    "\n",
    "Secondly, for the algorithm to make sense from the stake holder point of view, it is much more important to detect the risk of potential injury-type accidents than misclassifiying an actual property damage case, since one is rather too careful than take too much risk. This will help us shape the cost function.\n",
    "\n",
    "\n",
    "###  3.2 Feature selection\n",
    "\n",
    "In this section, we will select the features which determine the features to use. For this we will first use business knowledge to select obvious factors and then also check which column seems to have the most impact on the severity outcome. \n",
    "\n",
    "* 'WEATHER' containing data on the weather such at if it was dry or wet etc.\n",
    "* 'ROADCOND' containing information whether the road was dry, wet etc.\n",
    "* 'LIGHTCOND' containing data on lighting, e.g. if it was dark.\n",
    "\n",
    "We will check for these three first and eliminate unusable columns.\n",
    "\n",
    "<!--\n",
    "\n",
    " 'INATTENTIONIND', 'UNDERINFL', 'SPEEDING',\n",
    "\n",
    "Full colums\n",
    "SEVERITYCODE', 'X', 'Y', 'OBJECTID', 'INCKEY', 'COLDETKEY', 'REPORTNO',\n",
    "       'STATUS', 'ADDRTYPE', 'INTKEY', 'LOCATION', 'EXCEPTRSNCODE',\n",
    "       'EXCEPTRSNDESC', 'SEVERITYCODE.1', 'SEVERITYDESC', 'COLLISIONTYPE',\n",
    "       'PERSONCOUNT', 'PEDCOUNT', 'PEDCYLCOUNT', 'VEHCOUNT', 'INCDATE',\n",
    "       'INCDTTM', 'JUNCTIONTYPE', 'SDOT_COLCODE', 'SDOT_COLDESC',\n",
    "       'INATTENTIONIND', 'UNDERINFL', 'WEATHER', 'ROADCOND', 'LIGHTCOND',\n",
    "       'PEDROWNOTGRNT', 'SDOTCOLNUM', 'SPEEDING', 'ST_COLCODE', 'ST_COLDESC',\n",
    "       'SEGLANEKEY', 'CROSSWALKKEY', 'HITPARKEDCAR'-->\n",
    "       \n",
    "#### 'WEATHER'\n",
    "\n",
    "We first check for the values."
   ]
  },
  {
   "cell_type": "code",
   "execution_count": 5,
   "metadata": {},
   "outputs": [
    {
     "data": {
      "text/plain": [
       "Clear                       111135\n",
       "Raining                      33145\n",
       "Overcast                     27714\n",
       "Unknown                      15091\n",
       "Snowing                        907\n",
       "Other                          832\n",
       "Fog/Smog/Smoke                 569\n",
       "Sleet/Hail/Freezing Rain       113\n",
       "Blowing Sand/Dirt               56\n",
       "Severe Crosswind                25\n",
       "Partly Cloudy                    5\n",
       "Name: WEATHER, dtype: int64"
      ]
     },
     "execution_count": 5,
     "metadata": {},
     "output_type": "execute_result"
    }
   ],
   "source": [
    "full_df['WEATHER'].value_counts()"
   ]
  },
  {
   "cell_type": "markdown",
   "metadata": {},
   "source": [
    "Now we're interested to see which of these conditions correlate with higher rates of injuries (e.g. higher than 23% -- the globale average)"
   ]
  },
  {
   "cell_type": "code",
   "execution_count": 6,
   "metadata": {},
   "outputs": [
    {
     "data": {
      "text/html": [
       "<div>\n",
       "<style scoped>\n",
       "    .dataframe tbody tr th:only-of-type {\n",
       "        vertical-align: middle;\n",
       "    }\n",
       "\n",
       "    .dataframe tbody tr th {\n",
       "        vertical-align: top;\n",
       "    }\n",
       "\n",
       "    .dataframe thead th {\n",
       "        text-align: right;\n",
       "    }\n",
       "</style>\n",
       "<table border=\"1\" class=\"dataframe\">\n",
       "  <thead>\n",
       "    <tr style=\"text-align: right;\">\n",
       "      <th>SEVERITYCODE</th>\n",
       "      <th>1</th>\n",
       "      <th>2</th>\n",
       "    </tr>\n",
       "    <tr>\n",
       "      <th>WEATHER</th>\n",
       "      <th></th>\n",
       "      <th></th>\n",
       "    </tr>\n",
       "  </thead>\n",
       "  <tbody>\n",
       "    <tr>\n",
       "      <th>Unknown</th>\n",
       "      <td>0.946</td>\n",
       "      <td>0.054</td>\n",
       "    </tr>\n",
       "    <tr>\n",
       "      <th>Other</th>\n",
       "      <td>0.861</td>\n",
       "      <td>0.139</td>\n",
       "    </tr>\n",
       "    <tr>\n",
       "      <th>Snowing</th>\n",
       "      <td>0.811</td>\n",
       "      <td>0.189</td>\n",
       "    </tr>\n",
       "    <tr>\n",
       "      <th>Sleet/Hail/Freezing Rain</th>\n",
       "      <td>0.752</td>\n",
       "      <td>0.248</td>\n",
       "    </tr>\n",
       "    <tr>\n",
       "      <th>Blowing Sand/Dirt</th>\n",
       "      <td>0.732</td>\n",
       "      <td>0.268</td>\n",
       "    </tr>\n",
       "    <tr>\n",
       "      <th>Severe Crosswind</th>\n",
       "      <td>0.720</td>\n",
       "      <td>0.280</td>\n",
       "    </tr>\n",
       "    <tr>\n",
       "      <th>Overcast</th>\n",
       "      <td>0.684</td>\n",
       "      <td>0.316</td>\n",
       "    </tr>\n",
       "    <tr>\n",
       "      <th>Clear</th>\n",
       "      <td>0.678</td>\n",
       "      <td>0.322</td>\n",
       "    </tr>\n",
       "    <tr>\n",
       "      <th>Fog/Smog/Smoke</th>\n",
       "      <td>0.671</td>\n",
       "      <td>0.329</td>\n",
       "    </tr>\n",
       "    <tr>\n",
       "      <th>Raining</th>\n",
       "      <td>0.663</td>\n",
       "      <td>0.337</td>\n",
       "    </tr>\n",
       "    <tr>\n",
       "      <th>Partly Cloudy</th>\n",
       "      <td>0.400</td>\n",
       "      <td>0.600</td>\n",
       "    </tr>\n",
       "  </tbody>\n",
       "</table>\n",
       "</div>"
      ],
      "text/plain": [
       "SEVERITYCODE                  1      2\n",
       "WEATHER                               \n",
       "Unknown                   0.946  0.054\n",
       "Other                     0.861  0.139\n",
       "Snowing                   0.811  0.189\n",
       "Sleet/Hail/Freezing Rain  0.752  0.248\n",
       "Blowing Sand/Dirt         0.732  0.268\n",
       "Severe Crosswind          0.720  0.280\n",
       "Overcast                  0.684  0.316\n",
       "Clear                     0.678  0.322\n",
       "Fog/Smog/Smoke            0.671  0.329\n",
       "Raining                   0.663  0.337\n",
       "Partly Cloudy             0.400  0.600"
      ]
     },
     "execution_count": 6,
     "metadata": {},
     "output_type": "execute_result"
    }
   ],
   "source": [
    "pd.crosstab(full_df['WEATHER'],full_df['SEVERITYCODE']).apply(lambda r: np.round(r/r.sum(),decimals=3), axis=1).sort_values(by = [2])"
   ]
  },
  {
   "cell_type": "code",
   "execution_count": 7,
   "metadata": {},
   "outputs": [
    {
     "data": {
      "image/png": "[encoded data removed]",
      "text/plain": [
       "<Figure size 432x288 with 1 Axes>"
      ]
     },
     "metadata": {
      "needs_background": "light"
     },
     "output_type": "display_data"
    }
   ],
   "source": [
    "pd.crosstab(full_df['WEATHER'],full_df['SEVERITYCODE']).sort_values(by = [2]).plot(kind=\"bar\")\n",
    "plt.savefig('foo.png')"
   ]
  },
  {
   "cell_type": "markdown",
   "metadata": {},
   "source": [
    "__Observations:__\n",
    "\n",
    "1. Unknown and other make up for the smalles percentages of injuries.\n",
    "1. Snowing, while intuitively making up for a big risk, has actually a lower risk than the globale average (19% instead of 23%) Perhaps drivers are already taking this risk into account and drive more carefully.\n",
    "1. Nice weather, e.g. 'Clear', 'Overcast' or 'Partly Cloudy' still accounts for a more than average amount of injuries. Note that the class 'Partly Cloudy' is very small (n=5), so it's high injury rate is not significant.\n",
    "1. Raining is the most dangerous condition.\n",
    "\n",
    "\n",
    "The category 'Unknown' and 'Other' does not lead to any further information, so we will remove these rows as well as missing data rows."
   ]
  },
  {
   "cell_type": "code",
   "execution_count": 8,
   "metadata": {},
   "outputs": [],
   "source": [
    "df = full_df[ (full_df['WEATHER']!= \"Unknown\") & (full_df['WEATHER']!= \"Other\")]\n",
    "df = df.dropna(subset=['SEVERITYCODE','WEATHER'])"
   ]
  },
  {
   "cell_type": "markdown",
   "metadata": {},
   "source": [
    "We will use our domain knowledge and group some of the weather conditions together, so that the classes become sufficiently big to be statiscally exploitable."
   ]
  },
  {
   "cell_type": "markdown",
   "metadata": {},
   "source": [
    "This leaves us with the following relative frequency."
   ]
  },
  {
   "cell_type": "code",
   "execution_count": 9,
   "metadata": {},
   "outputs": [
    {
     "data": {
      "text/plain": [
       "1    0.676557\n",
       "2    0.323443\n",
       "Name: SEVERITYCODE, dtype: float64"
      ]
     },
     "execution_count": 9,
     "metadata": {},
     "output_type": "execute_result"
    }
   ],
   "source": [
    "df['SEVERITYCODE'].value_counts().apply(lambda r: r/df['SEVERITYCODE'].count())"
   ]
  },
  {
   "cell_type": "code",
   "execution_count": 10,
   "metadata": {},
   "outputs": [
    {
     "data": {
      "text/plain": [
       "mild                        138854\n",
       "raining                      33145\n",
       "snowing                        907\n",
       "sleet/hail/freezing rain       113\n",
       "windy                           81\n",
       "Name: WEATHER, dtype: int64"
      ]
     },
     "execution_count": 10,
     "metadata": {},
     "output_type": "execute_result"
    }
   ],
   "source": [
    "weather_dict = {'Clear': 'mild','Overcast':'mild','Partly Cloudy':'mild', \\\n",
    "                'Snowing' : 'snowing', \\\n",
    "                'Sleet/Hail/Freezing Rain': 'sleet/hail/freezing rain', \\\n",
    "                'Blowing Sand/Dirt': 'windy',  'Severe Crosswind': 'windy', \\\n",
    "                'Raining': 'raining'\n",
    "               }\n",
    "df['WEATHER'] = df['WEATHER'].map(weather_dict)\n",
    "df['WEATHER'].value_counts()\n"
   ]
  },
  {
   "cell_type": "code",
   "execution_count": 11,
   "metadata": {},
   "outputs": [
    {
     "data": {
      "text/html": [
       "<div>\n",
       "<style scoped>\n",
       "    .dataframe tbody tr th:only-of-type {\n",
       "        vertical-align: middle;\n",
       "    }\n",
       "\n",
       "    .dataframe tbody tr th {\n",
       "        vertical-align: top;\n",
       "    }\n",
       "\n",
       "    .dataframe thead th {\n",
       "        text-align: right;\n",
       "    }\n",
       "</style>\n",
       "<table border=\"1\" class=\"dataframe\">\n",
       "  <thead>\n",
       "    <tr style=\"text-align: right;\">\n",
       "      <th>SEVERITYCODE</th>\n",
       "      <th>1</th>\n",
       "      <th>2</th>\n",
       "    </tr>\n",
       "    <tr>\n",
       "      <th>WEATHER</th>\n",
       "      <th></th>\n",
       "      <th></th>\n",
       "    </tr>\n",
       "  </thead>\n",
       "  <tbody>\n",
       "    <tr>\n",
       "      <th>snowing</th>\n",
       "      <td>0.811466</td>\n",
       "      <td>0.188534</td>\n",
       "    </tr>\n",
       "    <tr>\n",
       "      <th>sleet/hail/freezing rain</th>\n",
       "      <td>0.752212</td>\n",
       "      <td>0.247788</td>\n",
       "    </tr>\n",
       "    <tr>\n",
       "      <th>windy</th>\n",
       "      <td>0.728395</td>\n",
       "      <td>0.271605</td>\n",
       "    </tr>\n",
       "    <tr>\n",
       "      <th>mild</th>\n",
       "      <td>0.678886</td>\n",
       "      <td>0.321114</td>\n",
       "    </tr>\n",
       "    <tr>\n",
       "      <th>raining</th>\n",
       "      <td>0.662815</td>\n",
       "      <td>0.337185</td>\n",
       "    </tr>\n",
       "  </tbody>\n",
       "</table>\n",
       "</div>"
      ],
      "text/plain": [
       "SEVERITYCODE                     1         2\n",
       "WEATHER                                     \n",
       "snowing                   0.811466  0.188534\n",
       "sleet/hail/freezing rain  0.752212  0.247788\n",
       "windy                     0.728395  0.271605\n",
       "mild                      0.678886  0.321114\n",
       "raining                   0.662815  0.337185"
      ]
     },
     "execution_count": 11,
     "metadata": {},
     "output_type": "execute_result"
    }
   ],
   "source": [
    "pd.crosstab(df['WEATHER'],df['SEVERITYCODE']).apply(lambda r: r/r.sum(), axis=1).sort_values(by = [2])"
   ]
  },
  {
   "cell_type": "code",
   "execution_count": 12,
   "metadata": {},
   "outputs": [
    {
     "data": {
      "text/plain": [
       "<matplotlib.axes._subplots.AxesSubplot at 0x1087c9780>"
      ]
     },
     "execution_count": 12,
     "metadata": {},
     "output_type": "execute_result"
    },
    {
     "data": {
      "image/png": "[encoded data removed]",
      "text/plain": [
       "<Figure size 432x288 with 1 Axes>"
      ]
     },
     "metadata": {
      "needs_background": "light"
     },
     "output_type": "display_data"
    }
   ],
   "source": [
    "pd.crosstab(df['WEATHER'],df['SEVERITYCODE']).apply(lambda r: r/r.sum(), axis=1).sort_values(by = [2]).plot(kind='bar')"
   ]
  },
  {
   "cell_type": "markdown",
   "metadata": {},
   "source": [
    "### 'ROADCOND'\n",
    "\n",
    "We do the exact same thing for road conditions. We'll start with frequency."
   ]
  },
  {
   "cell_type": "code",
   "execution_count": 13,
   "metadata": {},
   "outputs": [
    {
     "data": {
      "text/plain": [
       "Dry               123402\n",
       "Wet                46956\n",
       "Ice                 1113\n",
       "Unknown              919\n",
       "Snow/Slush           902\n",
       "Standing Water       108\n",
       "Other                108\n",
       "Sand/Mud/Dirt         65\n",
       "Oil                   60\n",
       "Name: ROADCOND, dtype: int64"
      ]
     },
     "execution_count": 13,
     "metadata": {},
     "output_type": "execute_result"
    }
   ],
   "source": [
    "df['ROADCOND'].value_counts()"
   ]
  },
  {
   "cell_type": "code",
   "execution_count": 14,
   "metadata": {},
   "outputs": [
    {
     "data": {
      "text/plain": [
       "<matplotlib.axes._subplots.AxesSubplot at 0x1087bdeb8>"
      ]
     },
     "execution_count": 14,
     "metadata": {},
     "output_type": "execute_result"
    },
    {
     "data": {
      "image/png": "[encoded data removed]",
      "text/plain": [
       "<Figure size 432x288 with 1 Axes>"
      ]
     },
     "metadata": {
      "needs_background": "light"
     },
     "output_type": "display_data"
    }
   ],
   "source": [
    "pd.crosstab(df['ROADCOND'],df['SEVERITYCODE']).apply(lambda r: r/r.sum(), axis=1).sort_values(by = [2]).plot(kind='bar')"
   ]
  },
  {
   "cell_type": "code",
   "execution_count": 15,
   "metadata": {},
   "outputs": [
    {
     "data": {
      "text/plain": [
       "<matplotlib.axes._subplots.AxesSubplot at 0x1a16adc0f0>"
      ]
     },
     "execution_count": 15,
     "metadata": {},
     "output_type": "execute_result"
    },
    {
     "data": {
      "image/png": "[encoded data removed]",
      "text/plain": [
       "<Figure size 432x288 with 1 Axes>"
      ]
     },
     "metadata": {
      "needs_background": "light"
     },
     "output_type": "display_data"
    }
   ],
   "source": [
    "pd.crosstab(df['ROADCOND'],df['SEVERITYCODE']).sort_values(by = [2]).plot(kind='bar')"
   ]
  },
  {
   "cell_type": "markdown",
   "metadata": {},
   "source": [
    "__Observations__\n",
    "\n",
    "1. Unknown/Other are again categories without information which we can eliminate.\n",
    "1. Snow/Slush and Ice are again surprisingly, low risk.\n",
    "1. Oil and Wet yield slippery conditions and are therefore high risk as one would guess."
   ]
  },
  {
   "cell_type": "code",
   "execution_count": 16,
   "metadata": {},
   "outputs": [],
   "source": [
    "df = df[ (df['ROADCOND']!= \"Unknown\") & (df['ROADCOND']!= \"Other\")]\n",
    "df = df.dropna(subset=['ROADCOND'])"
   ]
  },
  {
   "cell_type": "markdown",
   "metadata": {},
   "source": [
    "After elimination of these columns, we have the following average severities."
   ]
  },
  {
   "cell_type": "code",
   "execution_count": 17,
   "metadata": {},
   "outputs": [
    {
     "data": {
      "text/plain": [
       "1    0.675539\n",
       "2    0.324461\n",
       "Name: SEVERITYCODE, dtype: float64"
      ]
     },
     "execution_count": 17,
     "metadata": {},
     "output_type": "execute_result"
    }
   ],
   "source": [
    "df['SEVERITYCODE'].value_counts().apply(lambda r: r/df['SEVERITYCODE'].count())"
   ]
  },
  {
   "cell_type": "markdown",
   "metadata": {},
   "source": [
    "### 'LIGHTCOND'\n",
    "\n",
    "We do the exact same thing for light conditions. We'll start with frequency."
   ]
  },
  {
   "cell_type": "code",
   "execution_count": 18,
   "metadata": {},
   "outputs": [
    {
     "data": {
      "text/plain": [
       "Daylight                    112618\n",
       "Dark - Street Lights On      46748\n",
       "Dusk                          5648\n",
       "Dawn                          2413\n",
       "Unknown                       2305\n",
       "Dark - No Street Lights       1408\n",
       "Dark - Street Lights Off      1114\n",
       "Other                          185\n",
       "Dark - Unknown Lighting          8\n",
       "Name: LIGHTCOND, dtype: int64"
      ]
     },
     "execution_count": 18,
     "metadata": {},
     "output_type": "execute_result"
    }
   ],
   "source": [
    "df['LIGHTCOND'].value_counts()"
   ]
  },
  {
   "cell_type": "code",
   "execution_count": 19,
   "metadata": {},
   "outputs": [
    {
     "data": {
      "text/html": [
       "<div>\n",
       "<style scoped>\n",
       "    .dataframe tbody tr th:only-of-type {\n",
       "        vertical-align: middle;\n",
       "    }\n",
       "\n",
       "    .dataframe tbody tr th {\n",
       "        vertical-align: top;\n",
       "    }\n",
       "\n",
       "    .dataframe thead th {\n",
       "        text-align: right;\n",
       "    }\n",
       "</style>\n",
       "<table border=\"1\" class=\"dataframe\">\n",
       "  <thead>\n",
       "    <tr style=\"text-align: right;\">\n",
       "      <th>SEVERITYCODE</th>\n",
       "      <th>1</th>\n",
       "      <th>2</th>\n",
       "    </tr>\n",
       "    <tr>\n",
       "      <th>LIGHTCOND</th>\n",
       "      <th></th>\n",
       "      <th></th>\n",
       "    </tr>\n",
       "  </thead>\n",
       "  <tbody>\n",
       "    <tr>\n",
       "      <th>Unknown</th>\n",
       "      <td>0.897180</td>\n",
       "      <td>0.102820</td>\n",
       "    </tr>\n",
       "    <tr>\n",
       "      <th>Dark - No Street Lights</th>\n",
       "      <td>0.771307</td>\n",
       "      <td>0.228693</td>\n",
       "    </tr>\n",
       "    <tr>\n",
       "      <th>Other</th>\n",
       "      <td>0.745946</td>\n",
       "      <td>0.254054</td>\n",
       "    </tr>\n",
       "    <tr>\n",
       "      <th>Dark - Street Lights Off</th>\n",
       "      <td>0.722621</td>\n",
       "      <td>0.277379</td>\n",
       "    </tr>\n",
       "    <tr>\n",
       "      <th>Dark - Street Lights On</th>\n",
       "      <td>0.694896</td>\n",
       "      <td>0.305104</td>\n",
       "    </tr>\n",
       "    <tr>\n",
       "      <th>Dawn</th>\n",
       "      <td>0.665976</td>\n",
       "      <td>0.334024</td>\n",
       "    </tr>\n",
       "    <tr>\n",
       "      <th>Dusk</th>\n",
       "      <td>0.663598</td>\n",
       "      <td>0.336402</td>\n",
       "    </tr>\n",
       "    <tr>\n",
       "      <th>Daylight</th>\n",
       "      <td>0.661866</td>\n",
       "      <td>0.338134</td>\n",
       "    </tr>\n",
       "    <tr>\n",
       "      <th>Dark - Unknown Lighting</th>\n",
       "      <td>0.625000</td>\n",
       "      <td>0.375000</td>\n",
       "    </tr>\n",
       "  </tbody>\n",
       "</table>\n",
       "</div>"
      ],
      "text/plain": [
       "SEVERITYCODE                     1         2\n",
       "LIGHTCOND                                   \n",
       "Unknown                   0.897180  0.102820\n",
       "Dark - No Street Lights   0.771307  0.228693\n",
       "Other                     0.745946  0.254054\n",
       "Dark - Street Lights Off  0.722621  0.277379\n",
       "Dark - Street Lights On   0.694896  0.305104\n",
       "Dawn                      0.665976  0.334024\n",
       "Dusk                      0.663598  0.336402\n",
       "Daylight                  0.661866  0.338134\n",
       "Dark - Unknown Lighting   0.625000  0.375000"
      ]
     },
     "execution_count": 19,
     "metadata": {},
     "output_type": "execute_result"
    }
   ],
   "source": [
    "pd.crosstab(df['LIGHTCOND'],df['SEVERITYCODE']).apply(lambda r: r/r.sum(), axis=1).sort_values(by = [2])"
   ]
  },
  {
   "cell_type": "code",
   "execution_count": 20,
   "metadata": {},
   "outputs": [
    {
     "data": {
      "text/plain": [
       "<matplotlib.axes._subplots.AxesSubplot at 0x1a16ab6e80>"
      ]
     },
     "execution_count": 20,
     "metadata": {},
     "output_type": "execute_result"
    },
    {
     "data": {
      "image/png": "[encoded data removed]",
      "text/plain": [
       "<Figure size 432x288 with 1 Axes>"
      ]
     },
     "metadata": {
      "needs_background": "light"
     },
     "output_type": "display_data"
    }
   ],
   "source": [
    "pd.crosstab(df['LIGHTCOND'],df['SEVERITYCODE']).apply(lambda r: r/r.sum(), axis=1).sort_values(by = [2]).plot(kind='bar')"
   ]
  },
  {
   "cell_type": "markdown",
   "metadata": {},
   "source": [
    "__Observations:__\n",
    "\n",
    "1. Our domain knowledge tells us, the darker the more risky.\n",
    "1. Most accidents happen at daylight, so lighting does not fully explain higher severity accidents.\n",
    "1. Domain: Dusk/dawn are similar, also no streetlights when dark, so we can group these together.\n",
    "\n",
    "We drop again 'Unknown', 'Other', 'Dark - Unknown Lighting' and missing values.\n"
   ]
  },
  {
   "cell_type": "code",
   "execution_count": 21,
   "metadata": {},
   "outputs": [],
   "source": [
    "df = df[ (df['LIGHTCOND']!= \"Unknown\") & (df['LIGHTCOND']!= \"Other\") & (df['LIGHTCOND'] != \"Dark - Unknown Lighting\")]\n",
    "df = df.dropna(subset=['LIGHTCOND'])"
   ]
  },
  {
   "cell_type": "code",
   "execution_count": 22,
   "metadata": {},
   "outputs": [
    {
     "data": {
      "text/plain": [
       "1    0.506446\n",
       "2    0.246777\n",
       "Name: SEVERITYCODE, dtype: float64"
      ]
     },
     "execution_count": 22,
     "metadata": {},
     "output_type": "execute_result"
    }
   ],
   "source": [
    "df['SEVERITYCODE'].value_counts().apply(lambda r: r/df['SEVERITYCODE'].sum())"
   ]
  },
  {
   "cell_type": "code",
   "execution_count": 23,
   "metadata": {},
   "outputs": [
    {
     "data": {
      "text/plain": [
       "daylight            112618\n",
       "dark with lights     46748\n",
       "dusk/dawn             8061\n",
       "dark - no lights      2522\n",
       "Name: LIGHTCOND, dtype: int64"
      ]
     },
     "execution_count": 23,
     "metadata": {},
     "output_type": "execute_result"
    }
   ],
   "source": [
    "light_dict = {'Dark - No Street Lights' : 'dark - no lights', 'Dark - Street Lights Off': 'dark - no lights', \\\n",
    "              'Dark - Street Lights On' : 'dark with lights', \\\n",
    "              'Dawn': 'dusk/dawn', 'Dusk': 'dusk/dawn', \\\n",
    "              'Daylight': 'daylight'\\\n",
    "               }\n",
    "df['LIGHTCOND'] = df['LIGHTCOND'].map(light_dict)\n",
    "df['LIGHTCOND'].value_counts()"
   ]
  },
  {
   "cell_type": "code",
   "execution_count": 24,
   "metadata": {},
   "outputs": [
    {
     "data": {
      "text/html": [
       "<div>\n",
       "<style scoped>\n",
       "    .dataframe tbody tr th:only-of-type {\n",
       "        vertical-align: middle;\n",
       "    }\n",
       "\n",
       "    .dataframe tbody tr th {\n",
       "        vertical-align: top;\n",
       "    }\n",
       "\n",
       "    .dataframe thead th {\n",
       "        text-align: right;\n",
       "    }\n",
       "</style>\n",
       "<table border=\"1\" class=\"dataframe\">\n",
       "  <thead>\n",
       "    <tr style=\"text-align: right;\">\n",
       "      <th>SEVERITYCODE</th>\n",
       "      <th>1</th>\n",
       "      <th>2</th>\n",
       "    </tr>\n",
       "    <tr>\n",
       "      <th>LIGHTCOND</th>\n",
       "      <th></th>\n",
       "      <th></th>\n",
       "    </tr>\n",
       "  </thead>\n",
       "  <tbody>\n",
       "    <tr>\n",
       "      <th>dark - no lights</th>\n",
       "      <td>0.749802</td>\n",
       "      <td>0.250198</td>\n",
       "    </tr>\n",
       "    <tr>\n",
       "      <th>dark with lights</th>\n",
       "      <td>0.694896</td>\n",
       "      <td>0.305104</td>\n",
       "    </tr>\n",
       "    <tr>\n",
       "      <th>dusk/dawn</th>\n",
       "      <td>0.664310</td>\n",
       "      <td>0.335690</td>\n",
       "    </tr>\n",
       "    <tr>\n",
       "      <th>daylight</th>\n",
       "      <td>0.661866</td>\n",
       "      <td>0.338134</td>\n",
       "    </tr>\n",
       "  </tbody>\n",
       "</table>\n",
       "</div>"
      ],
      "text/plain": [
       "SEVERITYCODE             1         2\n",
       "LIGHTCOND                           \n",
       "dark - no lights  0.749802  0.250198\n",
       "dark with lights  0.694896  0.305104\n",
       "dusk/dawn         0.664310  0.335690\n",
       "daylight          0.661866  0.338134"
      ]
     },
     "execution_count": 24,
     "metadata": {},
     "output_type": "execute_result"
    }
   ],
   "source": [
    "pd.crosstab(df['LIGHTCOND'],df['SEVERITYCODE']).apply(lambda r: r/r.sum(), axis=1).sort_values(by = [2])"
   ]
  },
  {
   "cell_type": "markdown",
   "metadata": {},
   "source": [
    "### Time dimension\n",
    "\n",
    "We do get a timing dimension via 'INCDTTM'. First, we need to cast this column as datetime."
   ]
  },
  {
   "cell_type": "code",
   "execution_count": 25,
   "metadata": {},
   "outputs": [
    {
     "data": {
      "text/plain": [
       "0   2013-03-27 14:54:00\n",
       "1   2006-12-20 18:55:00\n",
       "2   2004-11-18 10:20:00\n",
       "3   2013-03-29 09:26:00\n",
       "4   2004-01-28 08:04:00\n",
       "Name: INCDTTM, dtype: datetime64[ns]"
      ]
     },
     "execution_count": 25,
     "metadata": {},
     "output_type": "execute_result"
    }
   ],
   "source": [
    "df['INCDTTM'].head()\n",
    "df['INCDTTM'] = pd.to_datetime(df['INCDTTM'])\n",
    "df['INCDTTM'].head()"
   ]
  },
  {
   "cell_type": "markdown",
   "metadata": {},
   "source": [
    "Next, we extract dates (for our time series), extract the hour as well as the weekday."
   ]
  },
  {
   "cell_type": "code",
   "execution_count": 26,
   "metadata": {},
   "outputs": [],
   "source": [
    "df['date'] = df['INCDTTM'].dt.date\n",
    "df['hour'] = df['INCDTTM'].dt.hour\n",
    "df['weekdaynum'] = df['INCDTTM'].dt.weekday\n",
    "\n",
    "dict_weekday = {0 : 'Monday', 1: 'Tuesday', \\\n",
    "                2 : 'Wednesday',  3 : 'Thursday',\\\n",
    "                4 : 'Friday',  5 : 'Saturday', 6 : 'Sunday'\n",
    "               }\n",
    "df['weekday'] = df['weekdaynum'].map(dict_weekday)"
   ]
  },
  {
   "cell_type": "markdown",
   "metadata": {},
   "source": [
    "#### Dates\n"
   ]
  },
  {
   "cell_type": "code",
   "execution_count": 27,
   "metadata": {},
   "outputs": [
    {
     "data": {
      "text/plain": [
       "<matplotlib.axes._subplots.AxesSubplot at 0x1a16accf28>"
      ]
     },
     "execution_count": 27,
     "metadata": {},
     "output_type": "execute_result"
    },
    {
     "data": {
      "image/png": "[encoded data removed]",
      "text/plain": [
       "<Figure size 432x288 with 1 Axes>"
      ]
     },
     "metadata": {
      "needs_background": "light"
     },
     "output_type": "display_data"
    }
   ],
   "source": [
    "df['count1'] = df['SEVERITYCODE'].apply(lambda x: 1 if (x == 1) else 0)\n",
    "df['count2'] = df['SEVERITYCODE'].apply(lambda x: 1 if (x == 2) else 0)\n",
    "\n",
    "ts = df[['date','count1','count2']].groupby(['date']).sum()\n",
    "ts.plot()"
   ]
  },
  {
   "cell_type": "markdown",
   "metadata": {},
   "source": [
    "__Observations__\n",
    "1. We see a steady decline. Therefore it might make sense to introduce a per year variable.  \n",
    "1. Additionally, there seems to be a by month seasonality."
   ]
  },
  {
   "cell_type": "code",
   "execution_count": 28,
   "metadata": {},
   "outputs": [],
   "source": [
    "df['year'] = df['INCDTTM'].dt.year\n",
    "df['month'] = df['INCDTTM'].dt.month"
   ]
  },
  {
   "cell_type": "markdown",
   "metadata": {},
   "source": [
    "#### Years"
   ]
  },
  {
   "cell_type": "code",
   "execution_count": 29,
   "metadata": {},
   "outputs": [
    {
     "data": {
      "text/plain": [
       "<matplotlib.axes._subplots.AxesSubplot at 0x1a16af1be0>"
      ]
     },
     "execution_count": 29,
     "metadata": {},
     "output_type": "execute_result"
    },
    {
     "data": {
      "image/png": "[encoded data removed]",
      "text/plain": [
       "<Figure size 432x288 with 1 Axes>"
      ]
     },
     "metadata": {
      "needs_background": "light"
     },
     "output_type": "display_data"
    }
   ],
   "source": [
    "pd.crosstab(df['year'],df['SEVERITYCODE']).apply(lambda r: r/r.sum(), axis=1).plot(kind='bar')"
   ]
  },
  {
   "cell_type": "code",
   "execution_count": 30,
   "metadata": {},
   "outputs": [
    {
     "data": {
      "text/html": [
       "<div>\n",
       "<style scoped>\n",
       "    .dataframe tbody tr th:only-of-type {\n",
       "        vertical-align: middle;\n",
       "    }\n",
       "\n",
       "    .dataframe tbody tr th {\n",
       "        vertical-align: top;\n",
       "    }\n",
       "\n",
       "    .dataframe thead th {\n",
       "        text-align: right;\n",
       "    }\n",
       "</style>\n",
       "<table border=\"1\" class=\"dataframe\">\n",
       "  <thead>\n",
       "    <tr style=\"text-align: right;\">\n",
       "      <th>SEVERITYCODE</th>\n",
       "      <th>1</th>\n",
       "      <th>2</th>\n",
       "    </tr>\n",
       "    <tr>\n",
       "      <th>year</th>\n",
       "      <th></th>\n",
       "      <th></th>\n",
       "    </tr>\n",
       "  </thead>\n",
       "  <tbody>\n",
       "    <tr>\n",
       "      <th>2004</th>\n",
       "      <td>0.673354</td>\n",
       "      <td>0.326646</td>\n",
       "    </tr>\n",
       "    <tr>\n",
       "      <th>2005</th>\n",
       "      <td>0.685045</td>\n",
       "      <td>0.314955</td>\n",
       "    </tr>\n",
       "    <tr>\n",
       "      <th>2006</th>\n",
       "      <td>0.694734</td>\n",
       "      <td>0.305266</td>\n",
       "    </tr>\n",
       "    <tr>\n",
       "      <th>2007</th>\n",
       "      <td>0.699609</td>\n",
       "      <td>0.300391</td>\n",
       "    </tr>\n",
       "    <tr>\n",
       "      <th>2008</th>\n",
       "      <td>0.693977</td>\n",
       "      <td>0.306023</td>\n",
       "    </tr>\n",
       "    <tr>\n",
       "      <th>2009</th>\n",
       "      <td>0.666869</td>\n",
       "      <td>0.333131</td>\n",
       "    </tr>\n",
       "    <tr>\n",
       "      <th>2010</th>\n",
       "      <td>0.664574</td>\n",
       "      <td>0.335426</td>\n",
       "    </tr>\n",
       "    <tr>\n",
       "      <th>2011</th>\n",
       "      <td>0.674935</td>\n",
       "      <td>0.325065</td>\n",
       "    </tr>\n",
       "    <tr>\n",
       "      <th>2012</th>\n",
       "      <td>0.657352</td>\n",
       "      <td>0.342648</td>\n",
       "    </tr>\n",
       "    <tr>\n",
       "      <th>2013</th>\n",
       "      <td>0.660225</td>\n",
       "      <td>0.339775</td>\n",
       "    </tr>\n",
       "    <tr>\n",
       "      <th>2014</th>\n",
       "      <td>0.666363</td>\n",
       "      <td>0.333637</td>\n",
       "    </tr>\n",
       "    <tr>\n",
       "      <th>2015</th>\n",
       "      <td>0.656698</td>\n",
       "      <td>0.343302</td>\n",
       "    </tr>\n",
       "    <tr>\n",
       "      <th>2016</th>\n",
       "      <td>0.656442</td>\n",
       "      <td>0.343558</td>\n",
       "    </tr>\n",
       "    <tr>\n",
       "      <th>2017</th>\n",
       "      <td>0.668634</td>\n",
       "      <td>0.331366</td>\n",
       "    </tr>\n",
       "    <tr>\n",
       "      <th>2018</th>\n",
       "      <td>0.655904</td>\n",
       "      <td>0.344096</td>\n",
       "    </tr>\n",
       "    <tr>\n",
       "      <th>2019</th>\n",
       "      <td>0.649699</td>\n",
       "      <td>0.350301</td>\n",
       "    </tr>\n",
       "    <tr>\n",
       "      <th>2020</th>\n",
       "      <td>0.685714</td>\n",
       "      <td>0.314286</td>\n",
       "    </tr>\n",
       "  </tbody>\n",
       "</table>\n",
       "</div>"
      ],
      "text/plain": [
       "SEVERITYCODE         1         2\n",
       "year                            \n",
       "2004          0.673354  0.326646\n",
       "2005          0.685045  0.314955\n",
       "2006          0.694734  0.305266\n",
       "2007          0.699609  0.300391\n",
       "2008          0.693977  0.306023\n",
       "2009          0.666869  0.333131\n",
       "2010          0.664574  0.335426\n",
       "2011          0.674935  0.325065\n",
       "2012          0.657352  0.342648\n",
       "2013          0.660225  0.339775\n",
       "2014          0.666363  0.333637\n",
       "2015          0.656698  0.343302\n",
       "2016          0.656442  0.343558\n",
       "2017          0.668634  0.331366\n",
       "2018          0.655904  0.344096\n",
       "2019          0.649699  0.350301\n",
       "2020          0.685714  0.314286"
      ]
     },
     "execution_count": 30,
     "metadata": {},
     "output_type": "execute_result"
    }
   ],
   "source": [
    "pd.crosstab(df['year'],df['SEVERITYCODE']).apply(lambda r: r/r.sum(), axis=1)"
   ]
  },
  {
   "cell_type": "markdown",
   "metadata": {},
   "source": [
    "#### Month"
   ]
  },
  {
   "cell_type": "code",
   "execution_count": 31,
   "metadata": {},
   "outputs": [
    {
     "data": {
      "text/plain": [
       "<matplotlib.axes._subplots.AxesSubplot at 0x1a16f43278>"
      ]
     },
     "execution_count": 31,
     "metadata": {},
     "output_type": "execute_result"
    },
    {
     "data": {
      "image/png": "[encoded data removed]",
      "text/plain": [
       "<Figure size 432x288 with 1 Axes>"
      ]
     },
     "metadata": {
      "needs_background": "light"
     },
     "output_type": "display_data"
    }
   ],
   "source": [
    "pd.crosstab(df['month'],df['SEVERITYCODE']).apply(lambda r: r/r.sum(), axis=1).plot(kind='bar')"
   ]
  },
  {
   "cell_type": "code",
   "execution_count": 32,
   "metadata": {},
   "outputs": [
    {
     "data": {
      "text/html": [
       "<div>\n",
       "<style scoped>\n",
       "    .dataframe tbody tr th:only-of-type {\n",
       "        vertical-align: middle;\n",
       "    }\n",
       "\n",
       "    .dataframe tbody tr th {\n",
       "        vertical-align: top;\n",
       "    }\n",
       "\n",
       "    .dataframe thead th {\n",
       "        text-align: right;\n",
       "    }\n",
       "</style>\n",
       "<table border=\"1\" class=\"dataframe\">\n",
       "  <thead>\n",
       "    <tr style=\"text-align: right;\">\n",
       "      <th>SEVERITYCODE</th>\n",
       "      <th>1</th>\n",
       "      <th>2</th>\n",
       "    </tr>\n",
       "    <tr>\n",
       "      <th>month</th>\n",
       "      <th></th>\n",
       "      <th></th>\n",
       "    </tr>\n",
       "  </thead>\n",
       "  <tbody>\n",
       "    <tr>\n",
       "      <th>1</th>\n",
       "      <td>0.684810</td>\n",
       "      <td>0.315190</td>\n",
       "    </tr>\n",
       "    <tr>\n",
       "      <th>2</th>\n",
       "      <td>0.688054</td>\n",
       "      <td>0.311946</td>\n",
       "    </tr>\n",
       "    <tr>\n",
       "      <th>3</th>\n",
       "      <td>0.680452</td>\n",
       "      <td>0.319548</td>\n",
       "    </tr>\n",
       "    <tr>\n",
       "      <th>4</th>\n",
       "      <td>0.674265</td>\n",
       "      <td>0.325735</td>\n",
       "    </tr>\n",
       "    <tr>\n",
       "      <th>5</th>\n",
       "      <td>0.662940</td>\n",
       "      <td>0.337060</td>\n",
       "    </tr>\n",
       "    <tr>\n",
       "      <th>6</th>\n",
       "      <td>0.676699</td>\n",
       "      <td>0.323301</td>\n",
       "    </tr>\n",
       "    <tr>\n",
       "      <th>7</th>\n",
       "      <td>0.657716</td>\n",
       "      <td>0.342284</td>\n",
       "    </tr>\n",
       "    <tr>\n",
       "      <th>8</th>\n",
       "      <td>0.658525</td>\n",
       "      <td>0.341475</td>\n",
       "    </tr>\n",
       "    <tr>\n",
       "      <th>9</th>\n",
       "      <td>0.668089</td>\n",
       "      <td>0.331911</td>\n",
       "    </tr>\n",
       "    <tr>\n",
       "      <th>10</th>\n",
       "      <td>0.660083</td>\n",
       "      <td>0.339917</td>\n",
       "    </tr>\n",
       "    <tr>\n",
       "      <th>11</th>\n",
       "      <td>0.673975</td>\n",
       "      <td>0.326025</td>\n",
       "    </tr>\n",
       "    <tr>\n",
       "      <th>12</th>\n",
       "      <td>0.688254</td>\n",
       "      <td>0.311746</td>\n",
       "    </tr>\n",
       "  </tbody>\n",
       "</table>\n",
       "</div>"
      ],
      "text/plain": [
       "SEVERITYCODE         1         2\n",
       "month                           \n",
       "1             0.684810  0.315190\n",
       "2             0.688054  0.311946\n",
       "3             0.680452  0.319548\n",
       "4             0.674265  0.325735\n",
       "5             0.662940  0.337060\n",
       "6             0.676699  0.323301\n",
       "7             0.657716  0.342284\n",
       "8             0.658525  0.341475\n",
       "9             0.668089  0.331911\n",
       "10            0.660083  0.339917\n",
       "11            0.673975  0.326025\n",
       "12            0.688254  0.311746"
      ]
     },
     "execution_count": 32,
     "metadata": {},
     "output_type": "execute_result"
    }
   ],
   "source": [
    "pd.crosstab(df['month'],df['SEVERITYCODE']).apply(lambda r: r/r.sum(), axis=1)"
   ]
  },
  {
   "cell_type": "markdown",
   "metadata": {},
   "source": [
    "Here we see a seasonality trend for winter and summer. So it suffices to use these as indicator variables."
   ]
  },
  {
   "cell_type": "code",
   "execution_count": 33,
   "metadata": {},
   "outputs": [],
   "source": [
    "df['is_summer'] = df['month'].apply(lambda x: 1 if (x == 7) or (x== 8)  else 0)\n",
    "df['is_winter'] = df['month'].apply(lambda x: 1 if (x <= 3) or (x== 12)  else 0)\n"
   ]
  },
  {
   "cell_type": "markdown",
   "metadata": {},
   "source": [
    "#### Hour"
   ]
  },
  {
   "cell_type": "code",
   "execution_count": 34,
   "metadata": {},
   "outputs": [
    {
     "data": {
      "text/plain": [
       "<matplotlib.axes._subplots.AxesSubplot at 0x1a19648748>"
      ]
     },
     "execution_count": 34,
     "metadata": {},
     "output_type": "execute_result"
    },
    {
     "data": {
      "image/png": "[encoded data removed]",
      "text/plain": [
       "<Figure size 432x288 with 1 Axes>"
      ]
     },
     "metadata": {
      "needs_background": "light"
     },
     "output_type": "display_data"
    }
   ],
   "source": [
    "pd.crosstab(df['hour'],df['SEVERITYCODE']).apply(lambda r: r/r.sum(), axis=1).plot(kind='bar')"
   ]
  },
  {
   "cell_type": "markdown",
   "metadata": {},
   "source": [
    "__Observations:__\n",
    "\n",
    "1. There is a dip betyeen 1 and 4am.\n",
    "1. The peak is around 5pm.\n",
    "1. The relationship is not linear, hence we cannot use it as a standard numerical variable."
   ]
  },
  {
   "cell_type": "code",
   "execution_count": 35,
   "metadata": {},
   "outputs": [],
   "source": [
    "df['time'] = df['hour'].apply(lambda x: \\\n",
    "                                     'night' if ( ((x >= 1) & (x <= 4)) or (x>= 20)) else \\\n",
    "                                     ('midnight' if (x == 0)  else \\\n",
    "                                     ('rushhour' if ( ((x >= 5) & (x <= 9)) or ((x >= 15) & (x <= 19))) else\\\n",
    "                                     'day')))"
   ]
  },
  {
   "cell_type": "code",
   "execution_count": 36,
   "metadata": {},
   "outputs": [
    {
     "data": {
      "text/plain": [
       "<matplotlib.axes._subplots.AxesSubplot at 0x1a1defe0b8>"
      ]
     },
     "execution_count": 36,
     "metadata": {},
     "output_type": "execute_result"
    },
    {
     "data": {
      "image/png": "[encoded data removed]",
      "text/plain": [
       "<Figure size 432x288 with 1 Axes>"
      ]
     },
     "metadata": {
      "needs_background": "light"
     },
     "output_type": "display_data"
    }
   ],
   "source": [
    "pd.crosstab(df['time'],df['SEVERITYCODE']).apply(lambda r: r/r.sum(), axis=1).plot(kind='bar')"
   ]
  },
  {
   "cell_type": "markdown",
   "metadata": {},
   "source": [
    "#### Weekday"
   ]
  },
  {
   "cell_type": "code",
   "execution_count": 37,
   "metadata": {},
   "outputs": [
    {
     "data": {
      "text/html": [
       "<div>\n",
       "<style scoped>\n",
       "    .dataframe tbody tr th:only-of-type {\n",
       "        vertical-align: middle;\n",
       "    }\n",
       "\n",
       "    .dataframe tbody tr th {\n",
       "        vertical-align: top;\n",
       "    }\n",
       "\n",
       "    .dataframe thead th {\n",
       "        text-align: right;\n",
       "    }\n",
       "</style>\n",
       "<table border=\"1\" class=\"dataframe\">\n",
       "  <thead>\n",
       "    <tr style=\"text-align: right;\">\n",
       "      <th>SEVERITYCODE</th>\n",
       "      <th>1</th>\n",
       "      <th>2</th>\n",
       "    </tr>\n",
       "    <tr>\n",
       "      <th>weekday</th>\n",
       "      <th></th>\n",
       "      <th></th>\n",
       "    </tr>\n",
       "  </thead>\n",
       "  <tbody>\n",
       "    <tr>\n",
       "      <th>Sunday</th>\n",
       "      <td>0.694246</td>\n",
       "      <td>0.305754</td>\n",
       "    </tr>\n",
       "    <tr>\n",
       "      <th>Saturday</th>\n",
       "      <td>0.678400</td>\n",
       "      <td>0.321600</td>\n",
       "    </tr>\n",
       "    <tr>\n",
       "      <th>Friday</th>\n",
       "      <td>0.676581</td>\n",
       "      <td>0.323419</td>\n",
       "    </tr>\n",
       "    <tr>\n",
       "      <th>Wednesday</th>\n",
       "      <td>0.667567</td>\n",
       "      <td>0.332433</td>\n",
       "    </tr>\n",
       "    <tr>\n",
       "      <th>Tuesday</th>\n",
       "      <td>0.665932</td>\n",
       "      <td>0.334068</td>\n",
       "    </tr>\n",
       "    <tr>\n",
       "      <th>Monday</th>\n",
       "      <td>0.665849</td>\n",
       "      <td>0.334151</td>\n",
       "    </tr>\n",
       "    <tr>\n",
       "      <th>Thursday</th>\n",
       "      <td>0.662643</td>\n",
       "      <td>0.337357</td>\n",
       "    </tr>\n",
       "  </tbody>\n",
       "</table>\n",
       "</div>"
      ],
      "text/plain": [
       "SEVERITYCODE         1         2\n",
       "weekday                         \n",
       "Sunday        0.694246  0.305754\n",
       "Saturday      0.678400  0.321600\n",
       "Friday        0.676581  0.323419\n",
       "Wednesday     0.667567  0.332433\n",
       "Tuesday       0.665932  0.334068\n",
       "Monday        0.665849  0.334151\n",
       "Thursday      0.662643  0.337357"
      ]
     },
     "execution_count": 37,
     "metadata": {},
     "output_type": "execute_result"
    }
   ],
   "source": [
    "pd.crosstab(df['weekday'],df['SEVERITYCODE']).apply(lambda r: r/r.sum(), axis=1).sort_values(by=[2])#.plot(kind='bar')"
   ]
  },
  {
   "cell_type": "markdown",
   "metadata": {},
   "source": [
    "__Obervations:__\n",
    "\n",
    "1. Sunday is the safest day.\n",
    "1. All other weekdays are pretty much equal.\n",
    "\n",
    "We can therefore create a boolean type (cast as number for later algorithms) to simplify this feature."
   ]
  },
  {
   "cell_type": "code",
   "execution_count": 38,
   "metadata": {},
   "outputs": [],
   "source": [
    "df['is_sunday'] = df['weekday'].apply(lambda x: 1 if (x == \"Sunday\") else 0)"
   ]
  },
  {
   "cell_type": "code",
   "execution_count": 39,
   "metadata": {},
   "outputs": [
    {
     "data": {
      "text/html": [
       "<div>\n",
       "<style scoped>\n",
       "    .dataframe tbody tr th:only-of-type {\n",
       "        vertical-align: middle;\n",
       "    }\n",
       "\n",
       "    .dataframe tbody tr th {\n",
       "        vertical-align: top;\n",
       "    }\n",
       "\n",
       "    .dataframe thead th {\n",
       "        text-align: right;\n",
       "    }\n",
       "</style>\n",
       "<table border=\"1\" class=\"dataframe\">\n",
       "  <thead>\n",
       "    <tr style=\"text-align: right;\">\n",
       "      <th>SEVERITYCODE</th>\n",
       "      <th>1</th>\n",
       "      <th>2</th>\n",
       "    </tr>\n",
       "    <tr>\n",
       "      <th>is_sunday</th>\n",
       "      <th></th>\n",
       "      <th></th>\n",
       "    </tr>\n",
       "  </thead>\n",
       "  <tbody>\n",
       "    <tr>\n",
       "      <th>1</th>\n",
       "      <td>0.694246</td>\n",
       "      <td>0.305754</td>\n",
       "    </tr>\n",
       "    <tr>\n",
       "      <th>0</th>\n",
       "      <td>0.669611</td>\n",
       "      <td>0.330389</td>\n",
       "    </tr>\n",
       "  </tbody>\n",
       "</table>\n",
       "</div>"
      ],
      "text/plain": [
       "SEVERITYCODE         1         2\n",
       "is_sunday                       \n",
       "1             0.694246  0.305754\n",
       "0             0.669611  0.330389"
      ]
     },
     "execution_count": 39,
     "metadata": {},
     "output_type": "execute_result"
    }
   ],
   "source": [
    "pd.crosstab(df['is_sunday'],df['SEVERITYCODE']).apply(lambda r: r/r.sum(), axis=1).sort_values(by=[2])#.plot(kind='bar')"
   ]
  },
  {
   "cell_type": "markdown",
   "metadata": {},
   "source": [
    "### Location type\n",
    "\n",
    "As a driver, one knows that accidents are more likely at intersections. This information is stored in the variable 'ADDRTYPE'. "
   ]
  },
  {
   "cell_type": "code",
   "execution_count": 40,
   "metadata": {},
   "outputs": [
    {
     "data": {
      "text/plain": [
       "Block           107379\n",
       "Intersection     61267\n",
       "Alley              593\n",
       "Name: ADDRTYPE, dtype: int64"
      ]
     },
     "execution_count": 40,
     "metadata": {},
     "output_type": "execute_result"
    }
   ],
   "source": [
    "df['ADDRTYPE'].value_counts()"
   ]
  },
  {
   "cell_type": "code",
   "execution_count": 41,
   "metadata": {},
   "outputs": [
    {
     "data": {
      "text/plain": [
       "<matplotlib.axes._subplots.AxesSubplot at 0x1a1f00bb70>"
      ]
     },
     "execution_count": 41,
     "metadata": {},
     "output_type": "execute_result"
    },
    {
     "data": {
      "image/png": "[encoded data removed]",
      "text/plain": [
       "<Figure size 432x288 with 1 Axes>"
      ]
     },
     "metadata": {
      "needs_background": "light"
     },
     "output_type": "display_data"
    }
   ],
   "source": [
    "pd.crosstab(df['ADDRTYPE'],df['SEVERITYCODE']).apply(lambda r: r/r.sum(), axis=1).sort_values(by=[2]).plot(kind='bar')"
   ]
  },
  {
   "cell_type": "markdown",
   "metadata": {},
   "source": [
    "#### Feature summary\n",
    "\n",
    "We will therefore use\n",
    "\n",
    "* WEATHER (transformed)\n",
    "* ROADCOND\n",
    "* LIGHTCOND (transformed)\n",
    "* time_of_day (transformed from date)\n",
    "* is_sunday (transformed from date)\n",
    "* is_summer and is_winter (transformed from date)\n",
    "* ADDRTYPE \n",
    "\n",
    "\n",
    "We therefore reduce the columns as follows:"
   ]
  },
  {
   "cell_type": "code",
   "execution_count": 42,
   "metadata": {},
   "outputs": [
    {
     "data": {
      "text/html": [
       "<div>\n",
       "<style scoped>\n",
       "    .dataframe tbody tr th:only-of-type {\n",
       "        vertical-align: middle;\n",
       "    }\n",
       "\n",
       "    .dataframe tbody tr th {\n",
       "        vertical-align: top;\n",
       "    }\n",
       "\n",
       "    .dataframe thead th {\n",
       "        text-align: right;\n",
       "    }\n",
       "</style>\n",
       "<table border=\"1\" class=\"dataframe\">\n",
       "  <thead>\n",
       "    <tr style=\"text-align: right;\">\n",
       "      <th></th>\n",
       "      <th>SEVERITYCODE</th>\n",
       "      <th>WEATHER</th>\n",
       "      <th>ROADCOND</th>\n",
       "      <th>LIGHTCOND</th>\n",
       "      <th>time</th>\n",
       "      <th>is_sunday</th>\n",
       "      <th>ADDRTYPE</th>\n",
       "      <th>year</th>\n",
       "      <th>is_summer</th>\n",
       "      <th>is_winter</th>\n",
       "    </tr>\n",
       "  </thead>\n",
       "  <tbody>\n",
       "    <tr>\n",
       "      <th>0</th>\n",
       "      <td>2</td>\n",
       "      <td>mild</td>\n",
       "      <td>Wet</td>\n",
       "      <td>daylight</td>\n",
       "      <td>day</td>\n",
       "      <td>0</td>\n",
       "      <td>Intersection</td>\n",
       "      <td>2013</td>\n",
       "      <td>0</td>\n",
       "      <td>1</td>\n",
       "    </tr>\n",
       "    <tr>\n",
       "      <th>1</th>\n",
       "      <td>1</td>\n",
       "      <td>raining</td>\n",
       "      <td>Wet</td>\n",
       "      <td>dark with lights</td>\n",
       "      <td>rushhour</td>\n",
       "      <td>0</td>\n",
       "      <td>Block</td>\n",
       "      <td>2006</td>\n",
       "      <td>0</td>\n",
       "      <td>1</td>\n",
       "    </tr>\n",
       "    <tr>\n",
       "      <th>2</th>\n",
       "      <td>1</td>\n",
       "      <td>mild</td>\n",
       "      <td>Dry</td>\n",
       "      <td>daylight</td>\n",
       "      <td>day</td>\n",
       "      <td>0</td>\n",
       "      <td>Block</td>\n",
       "      <td>2004</td>\n",
       "      <td>0</td>\n",
       "      <td>0</td>\n",
       "    </tr>\n",
       "    <tr>\n",
       "      <th>3</th>\n",
       "      <td>1</td>\n",
       "      <td>mild</td>\n",
       "      <td>Dry</td>\n",
       "      <td>daylight</td>\n",
       "      <td>rushhour</td>\n",
       "      <td>0</td>\n",
       "      <td>Block</td>\n",
       "      <td>2013</td>\n",
       "      <td>0</td>\n",
       "      <td>1</td>\n",
       "    </tr>\n",
       "    <tr>\n",
       "      <th>4</th>\n",
       "      <td>2</td>\n",
       "      <td>raining</td>\n",
       "      <td>Wet</td>\n",
       "      <td>daylight</td>\n",
       "      <td>rushhour</td>\n",
       "      <td>0</td>\n",
       "      <td>Intersection</td>\n",
       "      <td>2004</td>\n",
       "      <td>0</td>\n",
       "      <td>1</td>\n",
       "    </tr>\n",
       "  </tbody>\n",
       "</table>\n",
       "</div>"
      ],
      "text/plain": [
       "   SEVERITYCODE  WEATHER ROADCOND         LIGHTCOND      time  is_sunday  \\\n",
       "0             2     mild      Wet          daylight       day          0   \n",
       "1             1  raining      Wet  dark with lights  rushhour          0   \n",
       "2             1     mild      Dry          daylight       day          0   \n",
       "3             1     mild      Dry          daylight  rushhour          0   \n",
       "4             2  raining      Wet          daylight  rushhour          0   \n",
       "\n",
       "       ADDRTYPE  year  is_summer  is_winter  \n",
       "0  Intersection  2013          0          1  \n",
       "1         Block  2006          0          1  \n",
       "2         Block  2004          0          0  \n",
       "3         Block  2013          0          1  \n",
       "4  Intersection  2004          0          1  "
      ]
     },
     "execution_count": 42,
     "metadata": {},
     "output_type": "execute_result"
    }
   ],
   "source": [
    "df = df[['SEVERITYCODE','WEATHER','ROADCOND','LIGHTCOND','time', 'is_sunday', 'ADDRTYPE','year','is_summer','is_winter']]\n",
    "df.head()"
   ]
  },
  {
   "cell_type": "markdown",
   "metadata": {},
   "source": [
    "First we convert the categorical data into dummy variables encoding our categorical variables."
   ]
  },
  {
   "cell_type": "code",
   "execution_count": 43,
   "metadata": {},
   "outputs": [
    {
     "data": {
      "text/html": [
       "<div>\n",
       "<style scoped>\n",
       "    .dataframe tbody tr th:only-of-type {\n",
       "        vertical-align: middle;\n",
       "    }\n",
       "\n",
       "    .dataframe tbody tr th {\n",
       "        vertical-align: top;\n",
       "    }\n",
       "\n",
       "    .dataframe thead th {\n",
       "        text-align: right;\n",
       "    }\n",
       "</style>\n",
       "<table border=\"1\" class=\"dataframe\">\n",
       "  <thead>\n",
       "    <tr style=\"text-align: right;\">\n",
       "      <th></th>\n",
       "      <th>SEVERITYCODE</th>\n",
       "      <th>is_sunday</th>\n",
       "      <th>WEATHER_mild</th>\n",
       "      <th>WEATHER_raining</th>\n",
       "      <th>WEATHER_sleet/hail/freezing rain</th>\n",
       "      <th>WEATHER_snowing</th>\n",
       "      <th>WEATHER_windy</th>\n",
       "      <th>ROADCOND_Dry</th>\n",
       "      <th>ROADCOND_Ice</th>\n",
       "      <th>ROADCOND_Oil</th>\n",
       "      <th>...</th>\n",
       "      <th>year_2015</th>\n",
       "      <th>year_2016</th>\n",
       "      <th>year_2017</th>\n",
       "      <th>year_2018</th>\n",
       "      <th>year_2019</th>\n",
       "      <th>year_2020</th>\n",
       "      <th>is_summer_0</th>\n",
       "      <th>is_summer_1</th>\n",
       "      <th>is_winter_0</th>\n",
       "      <th>is_winter_1</th>\n",
       "    </tr>\n",
       "  </thead>\n",
       "  <tbody>\n",
       "    <tr>\n",
       "      <th>0</th>\n",
       "      <td>2</td>\n",
       "      <td>0</td>\n",
       "      <td>1</td>\n",
       "      <td>0</td>\n",
       "      <td>0</td>\n",
       "      <td>0</td>\n",
       "      <td>0</td>\n",
       "      <td>0</td>\n",
       "      <td>0</td>\n",
       "      <td>0</td>\n",
       "      <td>...</td>\n",
       "      <td>0</td>\n",
       "      <td>0</td>\n",
       "      <td>0</td>\n",
       "      <td>0</td>\n",
       "      <td>0</td>\n",
       "      <td>0</td>\n",
       "      <td>1</td>\n",
       "      <td>0</td>\n",
       "      <td>0</td>\n",
       "      <td>1</td>\n",
       "    </tr>\n",
       "    <tr>\n",
       "      <th>1</th>\n",
       "      <td>1</td>\n",
       "      <td>0</td>\n",
       "      <td>0</td>\n",
       "      <td>1</td>\n",
       "      <td>0</td>\n",
       "      <td>0</td>\n",
       "      <td>0</td>\n",
       "      <td>0</td>\n",
       "      <td>0</td>\n",
       "      <td>0</td>\n",
       "      <td>...</td>\n",
       "      <td>0</td>\n",
       "      <td>0</td>\n",
       "      <td>0</td>\n",
       "      <td>0</td>\n",
       "      <td>0</td>\n",
       "      <td>0</td>\n",
       "      <td>1</td>\n",
       "      <td>0</td>\n",
       "      <td>0</td>\n",
       "      <td>1</td>\n",
       "    </tr>\n",
       "    <tr>\n",
       "      <th>2</th>\n",
       "      <td>1</td>\n",
       "      <td>0</td>\n",
       "      <td>1</td>\n",
       "      <td>0</td>\n",
       "      <td>0</td>\n",
       "      <td>0</td>\n",
       "      <td>0</td>\n",
       "      <td>1</td>\n",
       "      <td>0</td>\n",
       "      <td>0</td>\n",
       "      <td>...</td>\n",
       "      <td>0</td>\n",
       "      <td>0</td>\n",
       "      <td>0</td>\n",
       "      <td>0</td>\n",
       "      <td>0</td>\n",
       "      <td>0</td>\n",
       "      <td>1</td>\n",
       "      <td>0</td>\n",
       "      <td>1</td>\n",
       "      <td>0</td>\n",
       "    </tr>\n",
       "    <tr>\n",
       "      <th>3</th>\n",
       "      <td>1</td>\n",
       "      <td>0</td>\n",
       "      <td>1</td>\n",
       "      <td>0</td>\n",
       "      <td>0</td>\n",
       "      <td>0</td>\n",
       "      <td>0</td>\n",
       "      <td>1</td>\n",
       "      <td>0</td>\n",
       "      <td>0</td>\n",
       "      <td>...</td>\n",
       "      <td>0</td>\n",
       "      <td>0</td>\n",
       "      <td>0</td>\n",
       "      <td>0</td>\n",
       "      <td>0</td>\n",
       "      <td>0</td>\n",
       "      <td>1</td>\n",
       "      <td>0</td>\n",
       "      <td>0</td>\n",
       "      <td>1</td>\n",
       "    </tr>\n",
       "    <tr>\n",
       "      <th>4</th>\n",
       "      <td>2</td>\n",
       "      <td>0</td>\n",
       "      <td>0</td>\n",
       "      <td>1</td>\n",
       "      <td>0</td>\n",
       "      <td>0</td>\n",
       "      <td>0</td>\n",
       "      <td>0</td>\n",
       "      <td>0</td>\n",
       "      <td>0</td>\n",
       "      <td>...</td>\n",
       "      <td>0</td>\n",
       "      <td>0</td>\n",
       "      <td>0</td>\n",
       "      <td>0</td>\n",
       "      <td>0</td>\n",
       "      <td>0</td>\n",
       "      <td>1</td>\n",
       "      <td>0</td>\n",
       "      <td>0</td>\n",
       "      <td>1</td>\n",
       "    </tr>\n",
       "  </tbody>\n",
       "</table>\n",
       "<p>5 rows × 46 columns</p>\n",
       "</div>"
      ],
      "text/plain": [
       "   SEVERITYCODE  is_sunday  WEATHER_mild  WEATHER_raining  \\\n",
       "0             2          0             1                0   \n",
       "1             1          0             0                1   \n",
       "2             1          0             1                0   \n",
       "3             1          0             1                0   \n",
       "4             2          0             0                1   \n",
       "\n",
       "   WEATHER_sleet/hail/freezing rain  WEATHER_snowing  WEATHER_windy  \\\n",
       "0                                 0                0              0   \n",
       "1                                 0                0              0   \n",
       "2                                 0                0              0   \n",
       "3                                 0                0              0   \n",
       "4                                 0                0              0   \n",
       "\n",
       "   ROADCOND_Dry  ROADCOND_Ice  ROADCOND_Oil  ...  year_2015  year_2016  \\\n",
       "0             0             0             0  ...          0          0   \n",
       "1             0             0             0  ...          0          0   \n",
       "2             1             0             0  ...          0          0   \n",
       "3             1             0             0  ...          0          0   \n",
       "4             0             0             0  ...          0          0   \n",
       "\n",
       "   year_2017  year_2018  year_2019  year_2020  is_summer_0  is_summer_1  \\\n",
       "0          0          0          0          0            1            0   \n",
       "1          0          0          0          0            1            0   \n",
       "2          0          0          0          0            1            0   \n",
       "3          0          0          0          0            1            0   \n",
       "4          0          0          0          0            1            0   \n",
       "\n",
       "   is_winter_0  is_winter_1  \n",
       "0            0            1  \n",
       "1            0            1  \n",
       "2            1            0  \n",
       "3            0            1  \n",
       "4            0            1  \n",
       "\n",
       "[5 rows x 46 columns]"
      ]
     },
     "execution_count": 43,
     "metadata": {},
     "output_type": "execute_result"
    }
   ],
   "source": [
    "dummy_columns = ['WEATHER','ROADCOND','LIGHTCOND','ADDRTYPE','time','year','is_summer','is_winter']\n",
    "data = pd.get_dummies(df,columns=dummy_columns)\n",
    "data.head()"
   ]
  },
  {
   "cell_type": "markdown",
   "metadata": {},
   "source": [
    "### Correlation analysis\n",
    "\n",
    "We will do an analyis of correlations to check which columns have the biggest impact using the Pearson index. Values close to -1 and 1 indicate strong (anti-) correlation.      "
   ]
  },
  {
   "cell_type": "code",
   "execution_count": 44,
   "metadata": {},
   "outputs": [
    {
     "data": {
      "text/plain": [
       "<matplotlib.axes._subplots.AxesSubplot at 0x1a1d9094e0>"
      ]
     },
     "execution_count": 44,
     "metadata": {},
     "output_type": "execute_result"
    },
    {
     "data": {
      "image/png": "[encoded data removed]",
      "text/plain": [
       "<Figure size 864x345.6 with 1 Axes>"
      ]
     },
     "metadata": {
      "needs_background": "light"
     },
     "output_type": "display_data"
    }
   ],
   "source": [
    "corr = data.corr(method='pearson').drop('SEVERITYCODE')\n",
    "corr[['SEVERITYCODE']].sort_values(by = 'SEVERITYCODE').plot(kind='bar', figsize= [12, 4.8])"
   ]
  },
  {
   "cell_type": "markdown",
   "metadata": {},
   "source": [
    "### 3.3 Machine learning models\n",
    "\n",
    "We will try several variants of machine learning models.\n",
    "\n",
    "* Logistic Regression\n",
    "* Random Forests\n",
    "\n",
    "We want to plot a confusion matrix, so we define the following function."
   ]
  },
  {
   "cell_type": "code",
   "execution_count": 45,
   "metadata": {},
   "outputs": [],
   "source": [
    "from sklearn.metrics import classification_report, confusion_matrix\n",
    "import itertools\n",
    "def plot_confusion_matrix(cm, classes,\n",
    "                          normalize=False,\n",
    "                          title='Confusion matrix',\n",
    "                          cmap=plt.cm.Blues):\n",
    "    \"\"\"\n",
    "    This function prints and plots the confusion matrix.\n",
    "    Normalization can be applied by setting `normalize=True`.\n",
    "    \"\"\"\n",
    "    if normalize:\n",
    "        cm = cm.astype('float') / cm.sum(axis=1)[:, np.newaxis]\n",
    "        print(\"Normalized confusion matrix\")\n",
    "    else:\n",
    "        print('Confusion matrix, without normalization')\n",
    "\n",
    "    print(cm)\n",
    "\n",
    "    plt.imshow(cm, interpolation='nearest', cmap=cmap)\n",
    "    plt.title(title)\n",
    "    plt.colorbar()\n",
    "    tick_marks = np.arange(len(classes))\n",
    "    plt.xticks(tick_marks, classes, rotation=45)\n",
    "    plt.yticks(tick_marks, classes)\n",
    "\n",
    "    fmt = '.2f' if normalize else 'd'\n",
    "    thresh = cm.max() / 2.\n",
    "    for i, j in itertools.product(range(cm.shape[0]), range(cm.shape[1])):\n",
    "        plt.text(j, i, format(cm[i, j], fmt),\n",
    "                 horizontalalignment=\"center\",\n",
    "                 color=\"white\" if cm[i, j] > thresh else \"black\")\n",
    "\n",
    "    plt.tight_layout()\n",
    "    plt.ylabel('True label')\n",
    "    plt.xlabel('Predicted label')"
   ]
  },
  {
   "cell_type": "markdown",
   "metadata": {},
   "source": [
    "#### 3.3.1 Creating Balance\n",
    "\n",
    "First of all, we need to find a way to deal with the imbalanced-ness of data. This can be handled via weights for logistic regression."
   ]
  },
  {
   "cell_type": "code",
   "execution_count": 46,
   "metadata": {},
   "outputs": [
    {
     "name": "stdout",
     "output_type": "stream",
     "text": [
      "Weight1: 0.7436356317111378\n",
      "Weight2: 1.526122485632184\n"
     ]
    }
   ],
   "source": [
    "weight1 = len(data) / (len(data[data['SEVERITYCODE'] == 1])*2)\n",
    "weight2 = len(data) / (len(data[data['SEVERITYCODE'] == 2])*2)#*1.2#*1.31\n",
    "print(\"Weight1: \" + str(weight1))\n",
    "print(\"Weight2: \" + str(weight2))\n",
    "weights = {1:weight1, 2:weight2}"
   ]
  },
  {
   "cell_type": "markdown",
   "metadata": {},
   "source": [
    "#### 3.3.2 Train-test-split\n",
    "\n",
    "Secondly, we need to split the data into a train and test set."
   ]
  },
  {
   "cell_type": "code",
   "execution_count": 47,
   "metadata": {},
   "outputs": [],
   "source": [
    "X = data.drop('SEVERITYCODE', axis=1).values\n",
    "#X = preprocessing.StandardScaler().fit(X).transform(X)\n",
    "y = data['SEVERITYCODE']"
   ]
  },
  {
   "cell_type": "code",
   "execution_count": 48,
   "metadata": {},
   "outputs": [
    {
     "name": "stdout",
     "output_type": "stream",
     "text": [
      "Train set: (135959, 45) (135959,)\n",
      "Test set: (33990, 45) (33990,)\n"
     ]
    }
   ],
   "source": [
    "X_train, X_test, y_train, y_test = train_test_split( X, y, test_size=0.2, random_state=10)\n",
    "print ('Train set:', X_train.shape,  y_train.shape)\n",
    "print ('Test set:', X_test.shape,  y_test.shape)"
   ]
  },
  {
   "cell_type": "markdown",
   "metadata": {},
   "source": [
    "#### 3.3.3 Logistic Regression\n",
    "\n",
    "Here, we model the probability of a feature set to result in either category. This algorithm is designed for binary decision problems, which is the case for this data set and the posed question.\n",
    "\n",
    "__Model tuning__ We tune model performance by testing several hyperparameters using RandomizedSearchCV.\n"
   ]
  },
  {
   "cell_type": "code",
   "execution_count": 50,
   "metadata": {},
   "outputs": [
    {
     "name": "stdout",
     "output_type": "stream",
     "text": [
      "Fitting 3 folds for each of 10 candidates, totalling 30 fits\n"
     ]
    },
    {
     "name": "stderr",
     "output_type": "stream",
     "text": [
      "[Parallel(n_jobs=-1)]: Using backend LokyBackend with 4 concurrent workers.\n",
      "[Parallel(n_jobs=-1)]: Done  10 tasks      | elapsed:  3.5min\n",
      "[Parallel(n_jobs=-1)]: Done  30 out of  30 | elapsed: 10.5min remaining:    0.0s\n",
      "[Parallel(n_jobs=-1)]: Done  30 out of  30 | elapsed: 10.5min finished\n"
     ]
    },
    {
     "data": {
      "text/plain": [
       "RandomizedSearchCV(cv=3, error_score='raise-deprecating',\n",
       "          estimator=LogisticRegression(C=1.0,\n",
       "          class_weight={1: 0.7436356317111378, 2: 1.526122485632184},\n",
       "          dual=False, fit_intercept=True, intercept_scaling=1,\n",
       "          max_iter=100, multi_class='warn', n_jobs=None, penalty='l2',\n",
       "          random_state=None, solver='warn', tol=0.0001, verbose=0,\n",
       "          warm_start=False),\n",
       "          fit_params=None, iid='warn', n_iter=10, n_jobs=-1,\n",
       "          param_distributions={'penalty': ['l1', 'l2'], 'C': array([1.00000e-04, 2.63665e-04, 6.95193e-04, 1.83298e-03, 4.83293e-03,\n",
       "       1.27427e-02, 3.35982e-02, 8.85867e-02, 2.33572e-01, 6.15848e-01,\n",
       "       1.62378e+00, 4.28133e+00, 1.12884e+01, 2.97635e+01, 7.84760e+01,\n",
       "       2.06914e+02, 5.45559e+02, 1.43845e+03, 3.79269e+03, 1.00000e+04]), 'solver': ['liblinear']},\n",
       "          pre_dispatch='2*n_jobs', random_state=0, refit=True,\n",
       "          return_train_score='warn', scoring='f1', verbose=5)"
      ]
     },
     "execution_count": 50,
     "metadata": {},
     "output_type": "execute_result"
    }
   ],
   "source": [
    "reg_params = {\n",
    "    'penalty': ['l1', 'l2'],\n",
    "    'C': np.logspace(-4, 4, 20),\n",
    "    'solver': ['liblinear']\n",
    "}\n",
    "\n",
    "\n",
    "randomized_cv = RandomizedSearchCV(\n",
    "    LogisticRegression(class_weight=weights),\n",
    "    param_distributions=reg_params,\n",
    "    cv=3,\n",
    "    scoring='f1',\n",
    "    verbose=5,\n",
    "    n_jobs=-1,\n",
    "    random_state=0\n",
    ")\n",
    "\n",
    "randomized_cv.fit(X_train,y_train)"
   ]
  },
  {
   "cell_type": "code",
   "execution_count": 66,
   "metadata": {},
   "outputs": [
    {
     "name": "stdout",
     "output_type": "stream",
     "text": [
      "Classification Report: Logistic Regression\n",
      "              precision    recall  f1-score   support\n",
      "\n",
      "           1       0.73      0.70      0.71     22890\n",
      "           2       0.43      0.48      0.45     11100\n",
      "\n",
      "   micro avg       0.62      0.62      0.62     33990\n",
      "   macro avg       0.58      0.59      0.58     33990\n",
      "weighted avg       0.63      0.62      0.63     33990\n",
      "\n",
      "Accuracy: 62.47% (correctly classified test data)\n",
      "F1: 0.714462 (weighted average of recall and precision)\n"
     ]
    }
   ],
   "source": [
    "y_hat_lg = randomized_cv.predict(X_test)\n",
    "print(\"Classification Report: Logistic Regression\")\n",
    "print(classification_report(y_test, y_hat_lg))\n",
    "print(\"Accuracy: \" + str(round(metrics.accuracy_score(y_test, y_hat_lg, normalize=True)*100,2)) + \"% (correctly classified test data)\")\n",
    "print(\"F1: \" + str(round(metrics.f1_score(y_test, y_hat_lg),6))+ \" (weighted average of recall and precision)\")\n"
   ]
  },
  {
   "cell_type": "code",
   "execution_count": 52,
   "metadata": {},
   "outputs": [
    {
     "name": "stdout",
     "output_type": "stream",
     "text": [
      "Confusion matrix, without normalization\n",
      "[[15957  6933]\n",
      " [ 5827  5273]]\n"
     ]
    },
    {
     "data": {
      "image/png": "[encoded data removed]",
      "text/plain": [
       "<Figure size 432x288 with 2 Axes>"
      ]
     },
     "metadata": {
      "needs_background": "light"
     },
     "output_type": "display_data"
    }
   ],
   "source": [
    "# Compute confusion matrix\n",
    "cnf_matrix = confusion_matrix(y_test, y_hat_lg, labels=[1,2])\n",
    "np.set_printoptions(precision=2)\n",
    "\n",
    "# Plot non-normalized confusion matrix\n",
    "plt.figure()\n",
    "plot_confusion_matrix(cnf_matrix, classes=['severity code=1','severity code=2'],normalize= False,  title='Confusion matrix')"
   ]
  },
  {
   "cell_type": "markdown",
   "metadata": {},
   "source": [
    "#### 3.3.4 Random Forests"
   ]
  },
  {
   "cell_type": "code",
   "execution_count": 53,
   "metadata": {},
   "outputs": [
    {
     "name": "stdout",
     "output_type": "stream",
     "text": [
      "Fitting 3 folds for each of 10 candidates, totalling 30 fits\n"
     ]
    },
    {
     "name": "stderr",
     "output_type": "stream",
     "text": [
      "[Parallel(n_jobs=-1)]: Using backend LokyBackend with 4 concurrent workers.\n",
      "[Parallel(n_jobs=-1)]: Done  10 tasks      | elapsed:  7.7min\n",
      "[Parallel(n_jobs=-1)]: Done  30 out of  30 | elapsed: 13.8min remaining:    0.0s\n",
      "[Parallel(n_jobs=-1)]: Done  30 out of  30 | elapsed: 13.8min finished\n"
     ]
    },
    {
     "data": {
      "text/plain": [
       "RandomizedSearchCV(cv=3, error_score='raise-deprecating',\n",
       "          estimator=RandomForestClassifier(bootstrap=True,\n",
       "            class_weight={1: 0.7436356317111378, 2: 1.526122485632184},\n",
       "            criterion='gini', max_depth=None, max_features='auto',\n",
       "            max_leaf_nodes=None, min_impurity_decrease=0.0,\n",
       "            min_impurity_split=None, min_samples_leaf=1,\n",
       "            min_samples_split=2, min_weight_fraction_leaf=0.0,\n",
       "            n_estimators='warn', n_jobs=None, oob_score=False,\n",
       "            random_state=None, verbose=0, warm_start=False),\n",
       "          fit_params=None, iid='warn', n_iter=10, n_jobs=-1,\n",
       "          param_distributions={'max_depth': [2, 5, 10, 20], 'max_features': [5, 7, 10, 15], 'n_estimators': [100, 200, 500, 700], 'min_samples_split': [10, 15, 20]},\n",
       "          pre_dispatch='2*n_jobs', random_state=0, refit=True,\n",
       "          return_train_score='warn', scoring='f1', verbose=5)"
      ]
     },
     "execution_count": 53,
     "metadata": {},
     "output_type": "execute_result"
    }
   ],
   "source": [
    "rf_params = {\n",
    "    'max_depth': [2, 5, 10, 20],\n",
    "    'max_features': [5, 7, 10, 15],\n",
    "    'n_estimators': [100, 200, 500, 700],\n",
    "    'min_samples_split': [10, 15, 20]\n",
    "}\n",
    "\n",
    "randomized_cv = RandomizedSearchCV(\n",
    "    RandomForestClassifier(class_weight=weights),\n",
    "    param_distributions=rf_params,\n",
    "    cv=3,\n",
    "    scoring='f1',\n",
    "    verbose=5,\n",
    "    n_jobs=-1,\n",
    "    random_state=0\n",
    ")\n",
    "\n",
    "randomized_cv.fit(X_train,y_train)"
   ]
  },
  {
   "cell_type": "markdown",
   "metadata": {},
   "source": [
    "We can then extract the best model and fit the data."
   ]
  },
  {
   "cell_type": "code",
   "execution_count": 56,
   "metadata": {},
   "outputs": [
    {
     "data": {
      "text/plain": [
       "RandomForestClassifier(bootstrap=True,\n",
       "            class_weight={1: 0.7436356317111378, 2: 1.526122485632184},\n",
       "            criterion='gini', max_depth=None, max_features='auto',\n",
       "            max_leaf_nodes=None, min_impurity_decrease=0.0,\n",
       "            min_impurity_split=None, min_samples_leaf=1,\n",
       "            min_samples_split=2, min_weight_fraction_leaf=0.0,\n",
       "            n_estimators=10, n_jobs=None, oob_score=False,\n",
       "            random_state=None, verbose=0, warm_start=False)"
      ]
     },
     "execution_count": 56,
     "metadata": {},
     "output_type": "execute_result"
    }
   ],
   "source": [
    "RF = randomized_cv.estimator\n",
    "RF.fit(X_train, y_train)"
   ]
  },
  {
   "cell_type": "code",
   "execution_count": 79,
   "metadata": {},
   "outputs": [
    {
     "name": "stdout",
     "output_type": "stream",
     "text": [
      "Classification Report: Random Forest\n",
      "              precision    recall  f1-score   support\n",
      "\n",
      "           1       0.73      0.70      0.71     22890\n",
      "           2       0.43      0.48      0.45     11100\n",
      "\n",
      "   micro avg       0.62      0.62      0.62     33990\n",
      "   macro avg       0.58      0.59      0.58     33990\n",
      "weighted avg       0.63      0.62      0.63     33990\n",
      "\n",
      "Accuracy: 62.47% (correctly classified test data)\n",
      "F1: 0.714462 (weighted average of recall and precision)\n",
      "Confusion matrix, without normalization\n",
      "[[15960  6930]\n",
      " [ 5827  5273]]\n"
     ]
    },
    {
     "data": {
      "image/png": "[encoded data removed]",
      "text/plain": [
       "<Figure size 432x288 with 2 Axes>"
      ]
     },
     "metadata": {
      "needs_background": "light"
     },
     "output_type": "display_data"
    }
   ],
   "source": [
    "y_hat_rf = randomized_cv.predict(X_test)\n",
    "print(\"Classification Report: Random Forest\")\n",
    "print(classification_report(y_test, y_hat_rf))\n",
    "print(\"Accuracy: \" + str(round(metrics.accuracy_score(y_test, y_hat_rf, normalize=True)*100,2)) + \"% (correctly classified test data)\")\n",
    "print(\"F1: \" + str(round(metrics.f1_score(y_test, y_hat_rf),6)) + \" (weighted average of recall and precision)\")\n"
   ]
  },
  {
   "cell_type": "markdown",
   "metadata": {},
   "source": [
    "So, random forests beat logistic regression in the F1-score by a very slight margin.\n",
    "\n",
    "#### 3.3.5 Importances Analysis"
   ]
  },
  {
   "cell_type": "code",
   "execution_count": 78,
   "metadata": {},
   "outputs": [
    {
     "data": {
      "image/png": "[encoded data removed]",
      "text/plain": [
       "<Figure size 1080x288 with 1 Axes>"
      ]
     },
     "metadata": {
      "needs_background": "light"
     },
     "output_type": "display_data"
    }
   ],
   "source": [
    "importances = [abs(i) for i in RF.feature_importances_]\n",
    "data.drop('SEVERITYCODE', axis=1).columns.values\n",
    "ax = sns.barplot(data.drop('SEVERITYCODE', axis=1).columns.values, importances)\n",
    "ax.set_xticklabels(ax.get_xticklabels(), rotation=90)\n",
    "ax.figure.set_figwidth(15)"
   ]
  },
  {
   "cell_type": "markdown",
   "metadata": {},
   "source": [
    "## Results\n",
    "Out of our two approaches, logistic classification and random forests, we pick random foreces because of the better f1 score performance.\n",
    "We summarize it's statisics."
   ]
  },
  {
   "cell_type": "code",
   "execution_count": 80,
   "metadata": {},
   "outputs": [
    {
     "name": "stdout",
     "output_type": "stream",
     "text": [
      "Confusion matrix, without normalization\n",
      "[[15960  6930]\n",
      " [ 5827  5273]]\n"
     ]
    },
    {
     "data": {
      "image/png": "[encoded data removed]",
      "text/plain": [
       "<Figure size 432x288 with 2 Axes>"
      ]
     },
     "metadata": {
      "needs_background": "light"
     },
     "output_type": "display_data"
    }
   ],
   "source": [
    "# Compute confusion matrix\n",
    "cnf_matrix = confusion_matrix(y_test, y_hat_rf, labels=[1,2])\n",
    "np.set_printoptions(precision=2)\n",
    "\n",
    "# Plot non-normalized confusion matrix\n",
    "plt.figure()\n",
    "plot_confusion_matrix(cnf_matrix, classes=['severity code=1','severity code=2'],normalize= False,  title='Confusion matrix')"
   ]
  },
  {
   "cell_type": "markdown",
   "metadata": {},
   "source": [
    "Based on our model, we can extract the following importances of the features importances."
   ]
  },
  {
   "cell_type": "code",
   "execution_count": 81,
   "metadata": {},
   "outputs": [
    {
     "data": {
      "image/png": "[encoded data removed]",
      "text/plain": [
       "<Figure size 1080x288 with 1 Axes>"
      ]
     },
     "metadata": {
      "needs_background": "light"
     },
     "output_type": "display_data"
    }
   ],
   "source": [
    "importances = [abs(i) for i in RF.feature_importances_]\n",
    "data.drop('SEVERITYCODE', axis=1).columns.values\n",
    "ax = sns.barplot(data.drop('SEVERITYCODE', axis=1).columns.values, importances)\n",
    "ax.set_xticklabels(ax.get_xticklabels(), rotation=90)\n",
    "ax.figure.set_figwidth(15)"
   ]
  },
  {
   "cell_type": "markdown",
   "metadata": {},
   "source": [
    "We note that __address type: intersection__, __address type: block__ and the fact that it is sunday play the most dominant roles."
   ]
  },
  {
   "cell_type": "markdown",
   "metadata": {},
   "source": [
    "\n",
    "## Discussion\n",
    "Our models work acceptably well to recognize code 1 accidents, however the recall is low for code 2 accidents. One path of improvement could be to increase the weight for code 2 accidents, since missclasifying them (e.g. underestimating an injury-type accident) is more 'costly' for drivers.\n",
    "\n",
    "The most striking feature we notice in the feature importance analysis is the importance of intersections. They pose a major risk for injuries in accident.\n",
    "\n",
    "\n",
    "## Conclusion\n",
    "\n",
    "In this analysis, we have analyzed the question of what impacts accident severity based on the overall conditions the driver is\n",
    "facing. We have used as basis the data collected by the Seattle police departement from 2004 to today. We have conducted\n",
    "a data analysis and selected features that had most impact on the accident severity. We have concluded that drivers already\n",
    "drive more carefully under most adverse conditions (e.g. snowing), but underestimate 'medium-type' conditions such as raining.\n",
    "\n"
   ]
  },
  {
   "cell_type": "code",
   "execution_count": null,
   "metadata": {},
   "outputs": [],
   "source": []
  }
 ],
 "metadata": {
  "kernelspec": {
   "display_name": "Python 3",
   "language": "python",
   "name": "python3"
  },
  "language_info": {
   "codemirror_mode": {
    "name": "ipython",
    "version": 3
   },
   "file_extension": ".py",
   "mimetype": "text/x-python",
   "name": "python",
   "nbconvert_exporter": "python",
   "pygments_lexer": "ipython3",
   "version": "3.7.3"
  }
 },
 "nbformat": 4,
 "nbformat_minor": 2
}
